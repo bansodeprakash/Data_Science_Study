{
 "cells": [
  {
   "cell_type": "code",
   "execution_count": 1,
   "id": "5c45f866",
   "metadata": {},
   "outputs": [
    {
     "data": {
      "text/plain": [
       "2"
      ]
     },
     "execution_count": 1,
     "metadata": {},
     "output_type": "execute_result"
    }
   ],
   "source": [
    "1+1"
   ]
  },
  {
   "cell_type": "code",
   "execution_count": 1,
   "id": "a4e4ae70",
   "metadata": {},
   "outputs": [],
   "source": [
    "a=9"
   ]
  },
  {
   "cell_type": "code",
   "execution_count": null,
   "id": "8c069751",
   "metadata": {},
   "outputs": [],
   "source": []
  },
  {
   "cell_type": "code",
   "execution_count": 2,
   "id": "b451cd9c",
   "metadata": {},
   "outputs": [
    {
     "data": {
      "text/plain": [
       "9"
      ]
     },
     "execution_count": 2,
     "metadata": {},
     "output_type": "execute_result"
    }
   ],
   "source": [
    "a"
   ]
  },
  {
   "cell_type": "code",
   "execution_count": 3,
   "id": "718ec6be",
   "metadata": {},
   "outputs": [],
   "source": [
    "del(a)"
   ]
  },
  {
   "cell_type": "code",
   "execution_count": 4,
   "id": "436b93bf",
   "metadata": {},
   "outputs": [
    {
     "ename": "NameError",
     "evalue": "name 'a' is not defined",
     "output_type": "error",
     "traceback": [
      "\u001b[1;31m---------------------------------------------------------------------------\u001b[0m",
      "\u001b[1;31mNameError\u001b[0m                                 Traceback (most recent call last)",
      "Input \u001b[1;32mIn [4]\u001b[0m, in \u001b[0;36m<cell line: 1>\u001b[1;34m()\u001b[0m\n\u001b[1;32m----> 1\u001b[0m \u001b[43ma\u001b[49m\n",
      "\u001b[1;31mNameError\u001b[0m: name 'a' is not defined"
     ]
    }
   ],
   "source": [
    "a"
   ]
  },
  {
   "cell_type": "code",
   "execution_count": 5,
   "id": "d8e2acb4",
   "metadata": {},
   "outputs": [],
   "source": [
    "a=9"
   ]
  },
  {
   "cell_type": "code",
   "execution_count": 6,
   "id": "55d9feae",
   "metadata": {},
   "outputs": [
    {
     "data": {
      "text/plain": [
       "9"
      ]
     },
     "execution_count": 6,
     "metadata": {},
     "output_type": "execute_result"
    }
   ],
   "source": [
    "a"
   ]
  },
  {
   "cell_type": "code",
   "execution_count": 7,
   "id": "e6277507",
   "metadata": {},
   "outputs": [],
   "source": [
    "A=4"
   ]
  },
  {
   "cell_type": "code",
   "execution_count": 9,
   "id": "53eb0618",
   "metadata": {},
   "outputs": [
    {
     "name": "stdout",
     "output_type": "stream",
     "text": [
      "2816499083824\n",
      "2816499083664\n"
     ]
    }
   ],
   "source": [
    "a=9\n",
    "print(id(a))\n",
    "print(id(A))"
   ]
  },
  {
   "cell_type": "code",
   "execution_count": 12,
   "id": "ef9dadce",
   "metadata": {},
   "outputs": [
    {
     "name": "stdout",
     "output_type": "stream",
     "text": [
      "2816499083728\n"
     ]
    }
   ],
   "source": [
    "A=6\n",
    "print(id(A))"
   ]
  },
  {
   "cell_type": "markdown",
   "id": "1390cda5",
   "metadata": {},
   "source": [
    "'''the problem is not prob'''"
   ]
  },
  {
   "cell_type": "code",
   "execution_count": 13,
   "id": "fa3b446b",
   "metadata": {},
   "outputs": [],
   "source": [
    "#this is not a code ok"
   ]
  },
  {
   "cell_type": "code",
   "execution_count": 17,
   "id": "9ad0c059",
   "metadata": {},
   "outputs": [
    {
     "name": "stdout",
     "output_type": "stream",
     "text": [
      "2\n",
      "5\n",
      "8\n"
     ]
    }
   ],
   "source": [
    "a=5\n",
    "A=2\n",
    "c=8\n",
    "print(A)\n",
    "print(a)\n",
    "print(c)\n"
   ]
  },
  {
   "cell_type": "code",
   "execution_count": 22,
   "id": "9e043bd3",
   "metadata": {},
   "outputs": [
    {
     "name": "stdout",
     "output_type": "stream",
     "text": [
      "5\n",
      "3\n",
      "8\n",
      "2\n",
      "8\n",
      "13\n"
     ]
    },
    {
     "data": {
      "text/plain": [
       "2"
      ]
     },
     "execution_count": 22,
     "metadata": {},
     "output_type": "execute_result"
    }
   ],
   "source": [
    "a=5\n",
    "print(a)\n",
    "b=3\n",
    "print(b)\n",
    "b=8\n",
    "print(b)\n",
    "A=2\n",
    "print(A)\n",
    "print(b)\n",
    "print(a+b)\n",
    "A"
   ]
  },
  {
   "cell_type": "code",
   "execution_count": 20,
   "id": "8ca440f0",
   "metadata": {},
   "outputs": [
    {
     "data": {
      "text/plain": [
       "20"
      ]
     },
     "execution_count": 20,
     "metadata": {},
     "output_type": "execute_result"
    }
   ],
   "source": [
    "A=20\n",
    "A"
   ]
  },
  {
   "cell_type": "code",
   "execution_count": 23,
   "id": "bfa971cc",
   "metadata": {},
   "outputs": [
    {
     "data": {
      "text/plain": [
       "8"
      ]
     },
     "execution_count": 23,
     "metadata": {},
     "output_type": "execute_result"
    }
   ],
   "source": [
    "b"
   ]
  },
  {
   "cell_type": "code",
   "execution_count": 24,
   "id": "19a886c5",
   "metadata": {},
   "outputs": [
    {
     "data": {
      "text/plain": [
       "13"
      ]
     },
     "execution_count": 24,
     "metadata": {},
     "output_type": "execute_result"
    }
   ],
   "source": [
    "a+b"
   ]
  },
  {
   "cell_type": "code",
   "execution_count": 29,
   "id": "3c80bf7f",
   "metadata": {},
   "outputs": [
    {
     "name": "stdout",
     "output_type": "stream",
     "text": [
      "2\n",
      "8\n"
     ]
    },
    {
     "data": {
      "text/plain": [
       "8"
      ]
     },
     "execution_count": 29,
     "metadata": {},
     "output_type": "execute_result"
    }
   ],
   "source": [
    "A=2\n",
    "print(A)\n",
    "\n",
    "print(b)\n",
    "A=b\n",
    "A"
   ]
  },
  {
   "cell_type": "code",
   "execution_count": 30,
   "id": "52174016",
   "metadata": {},
   "outputs": [
    {
     "data": {
      "text/plain": [
       "8"
      ]
     },
     "execution_count": 30,
     "metadata": {},
     "output_type": "execute_result"
    }
   ],
   "source": [
    "A\n",
    "b"
   ]
  },
  {
   "cell_type": "code",
   "execution_count": 31,
   "id": "ec3f9951",
   "metadata": {},
   "outputs": [
    {
     "name": "stdout",
     "output_type": "stream",
     "text": [
      "8\n",
      "8\n"
     ]
    }
   ],
   "source": [
    "print(A)\n",
    "print(b)"
   ]
  },
  {
   "cell_type": "code",
   "execution_count": 34,
   "id": "93b6254e",
   "metadata": {},
   "outputs": [
    {
     "ename": "NameError",
     "evalue": "name 'Print' is not defined",
     "output_type": "error",
     "traceback": [
      "\u001b[1;31m---------------------------------------------------------------------------\u001b[0m",
      "\u001b[1;31mNameError\u001b[0m                                 Traceback (most recent call last)",
      "Input \u001b[1;32mIn [34]\u001b[0m, in \u001b[0;36m<cell line: 4>\u001b[1;34m()\u001b[0m\n\u001b[0;32m      2\u001b[0m b\u001b[38;5;241m=\u001b[39m\u001b[38;5;241m3\u001b[39m\n\u001b[0;32m      3\u001b[0m c\u001b[38;5;241m=\u001b[39m\u001b[38;5;241m7\u001b[39m\n\u001b[1;32m----> 4\u001b[0m \u001b[43mPrint\u001b[49m(a)\n",
      "\u001b[1;31mNameError\u001b[0m: name 'Print' is not defined"
     ]
    }
   ],
   "source": [
    "a=6\n",
    "b=3\n",
    "c=7\n",
    "Print(a)"
   ]
  },
  {
   "cell_type": "code",
   "execution_count": 37,
   "id": "8a471bd3",
   "metadata": {},
   "outputs": [
    {
     "name": "stdout",
     "output_type": "stream",
     "text": [
      "6\n",
      "3\n",
      "7\n"
     ]
    },
    {
     "data": {
      "text/plain": [
       "(None, None, None)"
      ]
     },
     "execution_count": 37,
     "metadata": {},
     "output_type": "execute_result"
    }
   ],
   "source": [
    "a=6\n",
    "b=3\n",
    "c=7\n",
    "print(a),print(b),print(c)"
   ]
  },
  {
   "cell_type": "code",
   "execution_count": 42,
   "id": "b0bf9770",
   "metadata": {},
   "outputs": [
    {
     "name": "stdout",
     "output_type": "stream",
     "text": [
      "6 3 7\n",
      "3 6 7\n",
      "2 3.0 9\n"
     ]
    },
    {
     "data": {
      "text/plain": [
       "(None, None, None)"
      ]
     },
     "execution_count": 42,
     "metadata": {},
     "output_type": "execute_result"
    }
   ],
   "source": [
    "a=6\n",
    "b=3\n",
    "c=7\n",
    "print(a,b,c),print(b,a,c),print(c-5,a/2,b*3)"
   ]
  },
  {
   "cell_type": "code",
   "execution_count": 9,
   "id": "f7ab03f0",
   "metadata": {},
   "outputs": [],
   "source": [
    "list=['Prakash','akash','tai',1,2,3,4,[88,55,66,22,66,33,66,66,66,],5,6,7,8,9]"
   ]
  },
  {
   "cell_type": "code",
   "execution_count": 4,
   "id": "b7a982b5",
   "metadata": {},
   "outputs": [
    {
     "name": "stdout",
     "output_type": "stream",
     "text": [
      "['Prakash', 'akash', 'tai', 1, 2, 3, 4, 5, 6, 7, 8, 9]\n"
     ]
    }
   ],
   "source": [
    "print(list)"
   ]
  },
  {
   "cell_type": "code",
   "execution_count": 13,
   "id": "4d19ef20",
   "metadata": {},
   "outputs": [
    {
     "name": "stdout",
     "output_type": "stream",
     "text": [
      "[88, 55, 66, 22, 66, 33, 66, 66, 66]\n"
     ]
    }
   ],
   "source": [
    "print(list[7])"
   ]
  },
  {
   "cell_type": "code",
   "execution_count": 5,
   "id": "e64f24b6",
   "metadata": {},
   "outputs": [],
   "source": [
    "list3=[1,2,3,54,5,6,8,6,4,3,5,3,5,6,2,6,'2ksa','sal','Prakash','Akash','don']"
   ]
  },
  {
   "cell_type": "code",
   "execution_count": 8,
   "id": "23c758b3",
   "metadata": {},
   "outputs": [
    {
     "ename": "TypeError",
     "evalue": "'int' object is not subscriptable",
     "output_type": "error",
     "traceback": [
      "\u001b[1;31m---------------------------------------------------------------------------\u001b[0m",
      "\u001b[1;31mTypeError\u001b[0m                                 Traceback (most recent call last)",
      "Input \u001b[1;32mIn [8]\u001b[0m, in \u001b[0;36m<cell line: 1>\u001b[1;34m()\u001b[0m\n\u001b[1;32m----> 1\u001b[0m \u001b[38;5;28mprint\u001b[39m(\u001b[43mlist3\u001b[49m\u001b[43m[\u001b[49m\u001b[38;5;241;43m5\u001b[39;49m\u001b[43m]\u001b[49m\u001b[43m[\u001b[49m\u001b[38;5;241;43m6\u001b[39;49m\u001b[43m]\u001b[49m)\n",
      "\u001b[1;31mTypeError\u001b[0m: 'int' object is not subscriptable"
     ]
    }
   ],
   "source": [
    "print(list3[5][6])"
   ]
  },
  {
   "cell_type": "code",
   "execution_count": null,
   "id": "9a5ff311",
   "metadata": {},
   "outputs": [],
   "source": [
    "print(list)"
   ]
  },
  {
   "cell_type": "code",
   "execution_count": 12,
   "id": "3ec3cedd",
   "metadata": {},
   "outputs": [
    {
     "name": "stdout",
     "output_type": "stream",
     "text": [
      "[1, 2, 3, 4, 5, 6, 'don', 'just', 'don']\n",
      "[1, 2]\n",
      "[1, 2]\n",
      "[3, 4, 5, 6, 'don', 'just', 'don']\n"
     ]
    }
   ],
   "source": [
    "a=[1,2,3,4,5,6,\"don\",'just','don']\n",
    "b=a[:2]\n",
    "c=a[:2]\n",
    "print(a)\n",
    "print(b)\n",
    "print(c)\n",
    "del(a[0:2])\n",
    "print(a)"
   ]
  },
  {
   "cell_type": "code",
   "execution_count": 22,
   "id": "3c4e9bc5",
   "metadata": {},
   "outputs": [
    {
     "name": "stdout",
     "output_type": "stream",
     "text": [
      "[2011, 2012, 2013, 2014, 2015, 2016, 2017, [9, 2, 5, 6, ['a', 'b', 'c']]]\n"
     ]
    }
   ],
   "source": [
    "list=[2011,2012,2013,2014,2015,2016,2017,[9,2,5,6,['a','b','c'],],]\n",
    "print(list)"
   ]
  },
  {
   "cell_type": "code",
   "execution_count": 26,
   "id": "6ab39de0",
   "metadata": {},
   "outputs": [
    {
     "name": "stdout",
     "output_type": "stream",
     "text": [
      "[2011, 2012, 2013, 2014, 2015, 2016, 2017, [9, 2, 5, 6, ['a', 'don', 'c']]]\n"
     ]
    }
   ],
   "source": [
    "list[7][4][1]='don'\n",
    "print(list)"
   ]
  },
  {
   "cell_type": "code",
   "execution_count": 28,
   "id": "d314fc84",
   "metadata": {},
   "outputs": [
    {
     "name": "stdout",
     "output_type": "stream",
     "text": [
      "1646675797888\n",
      "[1, 2, 3, 4, 5, 6, 7, 8, 9, 10]\n",
      "1646675990336\n"
     ]
    }
   ],
   "source": [
    "list1=[1,2,3,4,5,6,7,8,9,10,]\n",
    "print(id(list1))\n",
    "print(list1)\n",
    "list1=[1,2,3,4,5,6,87,9,6,2,6]\n",
    "print(id(list1))"
   ]
  },
  {
   "cell_type": "markdown",
   "id": "142b2e5c",
   "metadata": {},
   "source": [
    "# list1=[1,2,3,4,5,6,7,[8,9,10],[45554,2222,5555]]\n",
    "print(id(list1))\n",
    "list[7][1]=2\n",
    "print(list1)\n",
    "print(id(list1))"
   ]
  },
  {
   "cell_type": "code",
   "execution_count": 34,
   "id": "534ddb0d",
   "metadata": {},
   "outputs": [
    {
     "name": "stdout",
     "output_type": "stream",
     "text": [
      "1646677259520\n",
      "1646677315520\n"
     ]
    }
   ],
   "source": [
    "list1=[1,2,3,4,5,6,7,[8,9,10],[45554,2222,5555]]\n",
    "print(id(list1))\n",
    "list1=[1,2,3,4,5,6,87,9,6,2,6]\n",
    "print(id(list1))"
   ]
  },
  {
   "cell_type": "code",
   "execution_count": null,
   "id": "85c32c5e",
   "metadata": {},
   "outputs": [],
   "source": []
  },
  {
   "cell_type": "code",
   "execution_count": 1,
   "id": "586caf45",
   "metadata": {},
   "outputs": [
    {
     "name": "stdout",
     "output_type": "stream",
     "text": [
      "4\n"
     ]
    }
   ],
   "source": [
    "python=4\n",
    "print(python)"
   ]
  },
  {
   "cell_type": "code",
   "execution_count": 2,
   "id": "7f7205fc",
   "metadata": {},
   "outputs": [
    {
     "name": "stdout",
     "output_type": "stream",
     "text": [
      "1987968461200\n"
     ]
    },
    {
     "data": {
      "text/plain": [
       "4"
      ]
     },
     "execution_count": 2,
     "metadata": {},
     "output_type": "execute_result"
    }
   ],
   "source": [
    "A=4\n",
    "print(id(A))\n",
    "A"
   ]
  },
  {
   "cell_type": "code",
   "execution_count": 3,
   "id": "7d1aa0eb",
   "metadata": {},
   "outputs": [
    {
     "name": "stdout",
     "output_type": "stream",
     "text": [
      "python\n"
     ]
    },
    {
     "data": {
      "text/plain": [
       "str"
      ]
     },
     "execution_count": 3,
     "metadata": {},
     "output_type": "execute_result"
    }
   ],
   "source": [
    "b='python'\n",
    "print(b)\n",
    "type(b)"
   ]
  },
  {
   "cell_type": "code",
   "execution_count": 4,
   "id": "a3f6067e",
   "metadata": {},
   "outputs": [
    {
     "name": "stdout",
     "output_type": "stream",
     "text": [
      "<class 'str'>\n"
     ]
    }
   ],
   "source": [
    "print(type(b))"
   ]
  },
  {
   "cell_type": "code",
   "execution_count": 6,
   "id": "d57e6c4e",
   "metadata": {},
   "outputs": [
    {
     "ename": "SyntaxError",
     "evalue": "invalid syntax (571461138.py, line 1)",
     "output_type": "error",
     "traceback": [
      "\u001b[1;36m  Input \u001b[1;32mIn [6]\u001b[1;36m\u001b[0m\n\u001b[1;33m    A=5x\u001b[0m\n\u001b[1;37m       ^\u001b[0m\n\u001b[1;31mSyntaxError\u001b[0m\u001b[1;31m:\u001b[0m invalid syntax\n"
     ]
    }
   ],
   "source": [
    "A=5x\n",
    "type(A)"
   ]
  },
  {
   "cell_type": "code",
   "execution_count": 9,
   "id": "e48d0d8b",
   "metadata": {},
   "outputs": [
    {
     "name": "stdout",
     "output_type": "stream",
     "text": [
      "<class 'bool'>\n",
      "<class 'str'>\n"
     ]
    }
   ],
   "source": [
    "a=False\n",
    "b='False'\n",
    "C\n",
    "print(type(a))\n",
    "print(type(b))"
   ]
  },
  {
   "cell_type": "code",
   "execution_count": 15,
   "id": "98f0aa5d",
   "metadata": {},
   "outputs": [
    {
     "ename": "SyntaxError",
     "evalue": "invalid syntax (3633736925.py, line 2)",
     "output_type": "error",
     "traceback": [
      "\u001b[1;36m  Input \u001b[1;32mIn [15]\u001b[1;36m\u001b[0m\n\u001b[1;33m    print(''''''a'''''')\u001b[0m\n\u001b[1;37m                ^\u001b[0m\n\u001b[1;31mSyntaxError\u001b[0m\u001b[1;31m:\u001b[0m invalid syntax\n"
     ]
    }
   ],
   "source": [
    "a=1\n",
    "print('''a'')"
   ]
  },
  {
   "cell_type": "code",
   "execution_count": 17,
   "id": "9d4b794d",
   "metadata": {},
   "outputs": [
    {
     "ename": "NameError",
     "evalue": "name 'x' is not defined",
     "output_type": "error",
     "traceback": [
      "\u001b[1;31m---------------------------------------------------------------------------\u001b[0m",
      "\u001b[1;31mNameError\u001b[0m                                 Traceback (most recent call last)",
      "Input \u001b[1;32mIn [17]\u001b[0m, in \u001b[0;36m<cell line: 1>\u001b[1;34m()\u001b[0m\n\u001b[1;32m----> 1\u001b[0m a\u001b[38;5;241m=\u001b[39m\u001b[38;5;241m5\u001b[39m\u001b[38;5;241m+\u001b[39m\u001b[43mx\u001b[49m\n\u001b[0;32m      2\u001b[0m \u001b[38;5;28mprint\u001b[39m(a)\n",
      "\u001b[1;31mNameError\u001b[0m: name 'x' is not defined"
     ]
    }
   ],
   "source": [
    "a=5+x\n",
    "print(a)"
   ]
  },
  {
   "cell_type": "code",
   "execution_count": 21,
   "id": "485f29ef",
   "metadata": {},
   "outputs": [
    {
     "ename": "NameError",
     "evalue": "name 'R' is not defined",
     "output_type": "error",
     "traceback": [
      "\u001b[1;31m---------------------------------------------------------------------------\u001b[0m",
      "\u001b[1;31mNameError\u001b[0m                                 Traceback (most recent call last)",
      "Input \u001b[1;32mIn [21]\u001b[0m, in \u001b[0;36m<cell line: 1>\u001b[1;34m()\u001b[0m\n\u001b[1;32m----> 1\u001b[0m a\u001b[38;5;241m=\u001b[39m\u001b[43mR\u001b[49m\n",
      "\u001b[1;31mNameError\u001b[0m: name 'R' is not defined"
     ]
    }
   ],
   "source": [
    "a=R"
   ]
  },
  {
   "cell_type": "code",
   "execution_count": 20,
   "id": "4f5ed686",
   "metadata": {},
   "outputs": [
    {
     "name": "stdout",
     "output_type": "stream",
     "text": [
      "<class 'str'>\n"
     ]
    }
   ],
   "source": [
    "print(type(a))"
   ]
  },
  {
   "cell_type": "code",
   "execution_count": 24,
   "id": "a999c6d7",
   "metadata": {},
   "outputs": [
    {
     "name": "stdout",
     "output_type": "stream",
     "text": [
      "R+9\n"
     ]
    }
   ],
   "source": [
    "a='R9'\n",
    "print(a)"
   ]
  },
  {
   "cell_type": "code",
   "execution_count": null,
   "id": "9d7f9dcd",
   "metadata": {},
   "outputs": [],
   "source": []
  },
  {
   "cell_type": "code",
   "execution_count": 26,
   "id": "b42aa870",
   "metadata": {},
   "outputs": [
    {
     "name": "stdout",
     "output_type": "stream",
     "text": [
      "<class 'str'>\n"
     ]
    }
   ],
   "source": [
    "print(type(a))"
   ]
  },
  {
   "cell_type": "code",
   "execution_count": 27,
   "id": "d25b34de",
   "metadata": {},
   "outputs": [
    {
     "ename": "NameError",
     "evalue": "name 'R' is not defined",
     "output_type": "error",
     "traceback": [
      "\u001b[1;31m---------------------------------------------------------------------------\u001b[0m",
      "\u001b[1;31mNameError\u001b[0m                                 Traceback (most recent call last)",
      "Input \u001b[1;32mIn [27]\u001b[0m, in \u001b[0;36m<cell line: 1>\u001b[1;34m()\u001b[0m\n\u001b[1;32m----> 1\u001b[0m a\u001b[38;5;241m=\u001b[39m\u001b[43mR\u001b[49m\n\u001b[0;32m      2\u001b[0m \u001b[38;5;28mprint\u001b[39m(a)\n",
      "\u001b[1;31mNameError\u001b[0m: name 'R' is not defined"
     ]
    }
   ],
   "source": [
    "a=R\n",
    "print(a)"
   ]
  },
  {
   "cell_type": "code",
   "execution_count": 31,
   "id": "6b7c45ce",
   "metadata": {},
   "outputs": [
    {
     "name": "stdout",
     "output_type": "stream",
     "text": [
      "2R6x\n"
     ]
    }
   ],
   "source": [
    "a='6x'\n",
    "b=\"2R\"\n",
    "c=b+a\n",
    "print(c)"
   ]
  },
  {
   "cell_type": "code",
   "execution_count": 32,
   "id": "3ee84f6b",
   "metadata": {},
   "outputs": [
    {
     "name": "stdout",
     "output_type": "stream",
     "text": [
      "data science\n"
     ]
    }
   ],
   "source": [
    "print('data science')"
   ]
  },
  {
   "cell_type": "code",
   "execution_count": 36,
   "id": "660f8367",
   "metadata": {},
   "outputs": [
    {
     "name": "stdout",
     "output_type": "stream",
     "text": [
      "10.6\n",
      "10.6 <class 'float'>\n"
     ]
    }
   ],
   "source": [
    "a=5.6\n",
    "b=5\n",
    "c=a+b\n",
    "print(c)\n",
    "print(c,type(c))"
   ]
  },
  {
   "cell_type": "code",
   "execution_count": 37,
   "id": "afe53dc9",
   "metadata": {},
   "outputs": [
    {
     "ename": "NameError",
     "evalue": "name 'true' is not defined",
     "output_type": "error",
     "traceback": [
      "\u001b[1;31m---------------------------------------------------------------------------\u001b[0m",
      "\u001b[1;31mNameError\u001b[0m                                 Traceback (most recent call last)",
      "Input \u001b[1;32mIn [37]\u001b[0m, in \u001b[0;36m<cell line: 1>\u001b[1;34m()\u001b[0m\n\u001b[1;32m----> 1\u001b[0m \u001b[38;5;28mprint\u001b[39m(\u001b[43mtrue\u001b[49m)\n",
      "\u001b[1;31mNameError\u001b[0m: name 'true' is not defined"
     ]
    }
   ],
   "source": [
    "print(true)"
   ]
  },
  {
   "cell_type": "code",
   "execution_count": 43,
   "id": "110de109",
   "metadata": {},
   "outputs": [
    {
     "name": "stdout",
     "output_type": "stream",
     "text": [
      "7.6\n",
      "<class 'float'>\n"
     ]
    }
   ],
   "source": [
    "C=a+True\n",
    "print(C+True)\n",
    "print(type(c))"
   ]
  },
  {
   "cell_type": "code",
   "execution_count": 44,
   "id": "e677857c",
   "metadata": {},
   "outputs": [
    {
     "data": {
      "text/plain": [
       "14j"
      ]
     },
     "execution_count": 44,
     "metadata": {},
     "output_type": "execute_result"
    }
   ],
   "source": [
    "6j+8j"
   ]
  },
  {
   "cell_type": "code",
   "execution_count": null,
   "id": "cfc4a468",
   "metadata": {},
   "outputs": [],
   "source": []
  },
  {
   "cell_type": "code",
   "execution_count": 45,
   "id": "4472e959",
   "metadata": {},
   "outputs": [
    {
     "data": {
      "text/plain": [
       "6"
      ]
     },
     "execution_count": 45,
     "metadata": {},
     "output_type": "execute_result"
    }
   ],
   "source": [
    "8-2*True"
   ]
  },
  {
   "cell_type": "code",
   "execution_count": 46,
   "id": "bbf1fcb8",
   "metadata": {},
   "outputs": [
    {
     "ename": "TypeError",
     "evalue": "unsupported operand type(s) for +: 'int' and 'str'",
     "output_type": "error",
     "traceback": [
      "\u001b[1;31m---------------------------------------------------------------------------\u001b[0m",
      "\u001b[1;31mTypeError\u001b[0m                                 Traceback (most recent call last)",
      "Input \u001b[1;32mIn [46]\u001b[0m, in \u001b[0;36m<cell line: 1>\u001b[1;34m()\u001b[0m\n\u001b[1;32m----> 1\u001b[0m \u001b[38;5;241;43m6\u001b[39;49m\u001b[38;5;241;43m+\u001b[39;49m\u001b[38;5;124;43m\"\u001b[39;49m\u001b[38;5;124;43mTrue\u001b[39;49m\u001b[38;5;124;43m\"\u001b[39;49m\n",
      "\u001b[1;31mTypeError\u001b[0m: unsupported operand type(s) for +: 'int' and 'str'"
     ]
    }
   ],
   "source": [
    "6+\"True\""
   ]
  },
  {
   "cell_type": "code",
   "execution_count": 48,
   "id": "87900865",
   "metadata": {},
   "outputs": [
    {
     "data": {
      "text/plain": [
       "55"
      ]
     },
     "execution_count": 48,
     "metadata": {},
     "output_type": "execute_result"
    }
   ],
   "source": [
    "TRUE=55\n",
    "a=TRUE\n",
    "a\n"
   ]
  },
  {
   "cell_type": "code",
   "execution_count": 53,
   "id": "6c45c73a",
   "metadata": {},
   "outputs": [
    {
     "data": {
      "text/plain": [
       "1"
      ]
     },
     "execution_count": 53,
     "metadata": {},
     "output_type": "execute_result"
    }
   ],
   "source": [
    "9//5"
   ]
  },
  {
   "cell_type": "code",
   "execution_count": 54,
   "id": "74115094",
   "metadata": {},
   "outputs": [
    {
     "ename": "NameError",
     "evalue": "name 'ni' is not defined",
     "output_type": "error",
     "traceback": [
      "\u001b[1;31m---------------------------------------------------------------------------\u001b[0m",
      "\u001b[1;31mNameError\u001b[0m                                 Traceback (most recent call last)",
      "Input \u001b[1;32mIn [54]\u001b[0m, in \u001b[0;36m<cell line: 1>\u001b[1;34m()\u001b[0m\n\u001b[1;32m----> 1\u001b[0m \u001b[43mni\u001b[49m\u001b[38;5;241m.\u001b[39mpi\n",
      "\u001b[1;31mNameError\u001b[0m: name 'ni' is not defined"
     ]
    }
   ],
   "source": [
    "ni.pi"
   ]
  },
  {
   "cell_type": "code",
   "execution_count": 56,
   "id": "048e8bcd",
   "metadata": {},
   "outputs": [
    {
     "data": {
      "text/plain": [
       "5000000j"
      ]
     },
     "execution_count": 56,
     "metadata": {},
     "output_type": "execute_result"
    }
   ],
   "source": [
    "5e+6j"
   ]
  },
  {
   "cell_type": "code",
   "execution_count": 58,
   "id": "4c27e7f9",
   "metadata": {},
   "outputs": [
    {
     "data": {
      "text/plain": [
       "4e-05"
      ]
     },
     "execution_count": 58,
     "metadata": {},
     "output_type": "execute_result"
    }
   ],
   "source": [
    "4e-5"
   ]
  },
  {
   "cell_type": "code",
   "execution_count": 61,
   "id": "6bfa644d",
   "metadata": {},
   "outputs": [
    {
     "name": "stdout",
     "output_type": "stream",
     "text": [
      "+91\n"
     ]
    }
   ],
   "source": [
    "a='+91'\n",
    "print(a)"
   ]
  },
  {
   "cell_type": "code",
   "execution_count": 65,
   "id": "cf6f2588",
   "metadata": {},
   "outputs": [],
   "source": [
    "b=8446681267"
   ]
  },
  {
   "cell_type": "code",
   "execution_count": 67,
   "id": "ee5dba5e",
   "metadata": {},
   "outputs": [
    {
     "ename": "TypeError",
     "evalue": "can only concatenate str (not \"int\") to str",
     "output_type": "error",
     "traceback": [
      "\u001b[1;31m---------------------------------------------------------------------------\u001b[0m",
      "\u001b[1;31mTypeError\u001b[0m                                 Traceback (most recent call last)",
      "Input \u001b[1;32mIn [67]\u001b[0m, in \u001b[0;36m<cell line: 3>\u001b[1;34m()\u001b[0m\n\u001b[0;32m      1\u001b[0m a\u001b[38;5;241m=\u001b[39m\u001b[38;5;124m'\u001b[39m\u001b[38;5;124m+91\u001b[39m\u001b[38;5;124m'\u001b[39m\n\u001b[0;32m      2\u001b[0m b\u001b[38;5;241m=\u001b[39m\u001b[38;5;241m8446681267\u001b[39m\n\u001b[1;32m----> 3\u001b[0m c\u001b[38;5;241m=\u001b[39m\u001b[43ma\u001b[49m\u001b[38;5;241;43m+\u001b[39;49m\u001b[38;5;124;43m\"\u001b[39;49m\u001b[38;5;124;43m \u001b[39;49m\u001b[38;5;124;43m\"\u001b[39;49m\u001b[38;5;241;43m+\u001b[39;49m\u001b[43mb\u001b[49m\n",
      "\u001b[1;31mTypeError\u001b[0m: can only concatenate str (not \"int\") to str"
     ]
    }
   ],
   "source": [
    "c=a+\" \"+b\n",
    "\n"
   ]
  },
  {
   "cell_type": "code",
   "execution_count": 76,
   "id": "0305b586",
   "metadata": {},
   "outputs": [],
   "source": [
    "a='123456789123456789'\n",
    "b='123654789963258741'\n"
   ]
  },
  {
   "cell_type": "code",
   "execution_count": 77,
   "id": "955f8175",
   "metadata": {},
   "outputs": [
    {
     "data": {
      "text/plain": [
       "'123456789123456789 12 123'"
      ]
     },
     "execution_count": 77,
     "metadata": {},
     "output_type": "execute_result"
    }
   ],
   "source": [
    "a +' '+ b[:2] +' '+ b[:3]"
   ]
  },
  {
   "cell_type": "markdown",
   "id": "9f882bbb",
   "metadata": {},
   "source": [
    "# 2022/07/28_1_list  1.1_listID of LIst "
   ]
  },
  {
   "cell_type": "code",
   "execution_count": 38,
   "id": "22e042ba",
   "metadata": {},
   "outputs": [
    {
     "name": "stdout",
     "output_type": "stream",
     "text": [
      "[12, 13, 45, 56, 78, 89, 22, 313, 5645, 556, 678, 589, 22, 313, 5645, 556, 678, 589]\n",
      "[12, 13, 45, 56, 78, 89] [22, 313, 5645, 556, 678, 589] [22, 313, 5645, 556, 678, 589]\n"
     ]
    }
   ],
   "source": [
    "list1=[12,13,45,56,78,89]\n",
    "list2=[22,313,5645,556,678,589]\n",
    "list3=[22,313,5645,556,678,589]\n",
    "print(list1+list2+list3)\n",
    "print(list1,list2,list3)\n"
   ]
  },
  {
   "cell_type": "code",
   "execution_count": 45,
   "id": "72e0e490",
   "metadata": {},
   "outputs": [
    {
     "ename": "AttributeError",
     "evalue": "'tuple' object has no attribute 'remove'",
     "output_type": "error",
     "traceback": [
      "\u001b[1;31m---------------------------------------------------------------------------\u001b[0m",
      "\u001b[1;31mAttributeError\u001b[0m                            Traceback (most recent call last)",
      "Input \u001b[1;32mIn [45]\u001b[0m, in \u001b[0;36m<cell line: 2>\u001b[1;34m()\u001b[0m\n\u001b[0;32m      1\u001b[0m list1\u001b[38;5;241m=\u001b[39m(\u001b[38;5;241m1\u001b[39m,\u001b[38;5;241m2\u001b[39m,\u001b[38;5;241m3\u001b[39m,\u001b[38;5;124m'\u001b[39m\u001b[38;5;124mPrakash1\u001b[39m\u001b[38;5;124m'\u001b[39m)\n\u001b[1;32m----> 2\u001b[0m list1\u001b[38;5;241m.\u001b[39mremove\u001b[38;5;241m=\u001b[39m([\u001b[38;5;124m'\u001b[39m\u001b[38;5;124mPrakash1\u001b[39m\u001b[38;5;124m'\u001b[39m])\n",
      "\u001b[1;31mAttributeError\u001b[0m: 'tuple' object has no attribute 'remove'"
     ]
    }
   ],
   "source": [
    "list1=(1,2,3,'Prakash1')\n",
    "list1."
   ]
  },
  {
   "cell_type": "code",
   "execution_count": 51,
   "id": "34c29e71",
   "metadata": {},
   "outputs": [
    {
     "name": "stdout",
     "output_type": "stream",
     "text": [
      "[13, 45, 56, 78, 89, 'pra']\n",
      "[13, 45, 56, 78, 89]\n"
     ]
    }
   ],
   "source": [
    "list1=[12,13,45,56,78,89,'pra']\n",
    "list1.remove(12)\n",
    "print(list1)\n",
    "list1.remove('pra')\n",
    "\n",
    "print(list1\n",
    "     )"
   ]
  },
  {
   "cell_type": "code",
   "execution_count": 58,
   "id": "fc55f9f3",
   "metadata": {},
   "outputs": [
    {
     "name": "stdout",
     "output_type": "stream",
     "text": [
      "[13, 45, 56, 78, 89, 'pra']\n",
      "[13, 45, 56, 89]\n"
     ]
    }
   ],
   "source": [
    "list1=[12,13,45,56,78,89,'pra']\n",
    "list1.remove(12)\n",
    "print(list1)\n",
    "list1.remove('pra')\n",
    "list1.remove(list1[3])\n",
    "\n",
    "print(list1)"
   ]
  },
  {
   "cell_type": "code",
   "execution_count": 69,
   "id": "9a03ba04",
   "metadata": {},
   "outputs": [
    {
     "name": "stdout",
     "output_type": "stream",
     "text": [
      "['Pra', 'AKA', 22, 33, 55, 55, 66, 88, 99, 77, 88, 22, 656532, 'Pra']\n",
      "['AKA', 22, 33, 55, 55, 66, 88, 99, 77, 88, 22, 656532, 'Pra']\n"
     ]
    }
   ],
   "source": [
    "list1=['Pra','AKA',22,33,55,55,66,88,99,77,88,22,656532,'Pra']\n",
    "print(list1)\n",
    "list1.remove(list1[13])\n",
    "print(list1)\n"
   ]
  },
  {
   "cell_type": "code",
   "execution_count": null,
   "id": "cb5b1916",
   "metadata": {},
   "outputs": [],
   "source": [
    "listA=['A','AB','AC''AC',]"
   ]
  },
  {
   "cell_type": "markdown",
   "id": "0eae5b38",
   "metadata": {},
   "source": [
    "#Append"
   ]
  },
  {
   "cell_type": "code",
   "execution_count": null,
   "id": "40e2cc32",
   "metadata": {},
   "outputs": [],
   "source": [
    "alist[123,'XYZ',\"ABCD\"ASDD]\n",
    "print(alist)\n",
    "alist."
   ]
  },
  {
   "cell_type": "markdown",
   "id": "2d54cfcf",
   "metadata": {},
   "source": [
    "# append=To add element to element "
   ]
  },
  {
   "cell_type": "code",
   "execution_count": 80,
   "id": "c631e0ff",
   "metadata": {},
   "outputs": [
    {
     "name": "stdout",
     "output_type": "stream",
     "text": [
      "[123, 'XYZ', 'ASDF']\n",
      "[123, 'XYZ', 'ASDF', 'abch']\n"
     ]
    }
   ],
   "source": [
    "alist=[123,'XYZ','ASDF']\n",
    "print(alist)\n",
    "alist.append('abch')\n",
    "print(alist)"
   ]
  },
  {
   "cell_type": "markdown",
   "id": "4ffb07ce",
   "metadata": {},
   "source": [
    "# pop = to remove element in list \n",
    "\n",
    "a=[1,2,3,4,5,6,8,96,5,4]\n",
    "print(a)\n",
    "a.pop()\n",
    "print(a)"
   ]
  },
  {
   "cell_type": "code",
   "execution_count": 82,
   "id": "8a123208",
   "metadata": {},
   "outputs": [
    {
     "name": "stdout",
     "output_type": "stream",
     "text": [
      "['Pra', 'AKA', 33, 55, 55, 66, 88, 99, 77, 88, 22, 656532, 'Pra']\n"
     ]
    }
   ],
   "source": [
    "list1=['Pra','AKA',22,33,55,55,66,88,99,77,88,22,656532,'Pra']\n",
    "list1.pop(2)\n",
    "print(list1)"
   ]
  },
  {
   "cell_type": "markdown",
   "id": "95918cf6",
   "metadata": {},
   "source": [
    "# insert to ADD THE element to the perticular location"
   ]
  },
  {
   "cell_type": "code",
   "execution_count": 86,
   "id": "7141e607",
   "metadata": {},
   "outputs": [
    {
     "name": "stdout",
     "output_type": "stream",
     "text": [
      "['9_dec']\n",
      "['9_dec', 2022]\n"
     ]
    }
   ],
   "source": [
    "birth_year=['9_dec']\n",
    "print(birth_year)\n",
    "birth_year.insert(1,2022)\n",
    "print(birth_year)"
   ]
  },
  {
   "cell_type": "code",
   "execution_count": 91,
   "id": "2927df5d",
   "metadata": {},
   "outputs": [
    {
     "name": "stdout",
     "output_type": "stream",
     "text": [
      "['Naldurg', 'usmanabad', 'India']\n",
      "1646686612672\n",
      "['Naldurg', 'usmanabad', 'India', 'Ashiya']\n",
      "1646686612672\n"
     ]
    }
   ],
   "source": [
    "birth_pLace=[\"Naldurg\",\"usmanabad\",\"India\"]\n",
    "print(birth_pLace)\n",
    "print(id(birth_pLace))\n",
    "birth_pLace.insert(3,\"Ashiya\")\n",
    "print(birth_pLace)\n",
    "print\n",
    "print(id(birth_pLace))\n"
   ]
  },
  {
   "cell_type": "markdown",
   "id": "1819233b",
   "metadata": {},
   "source": [
    "# Extend to join 2 elements"
   ]
  },
  {
   "cell_type": "code",
   "execution_count": 103,
   "id": "8283c695",
   "metadata": {
    "scrolled": true
   },
   "outputs": [
    {
     "name": "stdout",
     "output_type": "stream",
     "text": [
      "['Pra', 'AKA', 22, 33, 55, 55, 66, 88, 99, 77, 88, 22, 656532, 'Pra']\n",
      "[22, 313, 5645, 556, 678, 589, 'Pra', 'AKA', 22, 33, 55, 55, 66, 88, 99, 77, 88, 22, 656532, 'Pra', 22, 313, 5645, 556, 678, 589, 'Pra', 'AKA', 22, 33, 55, 55, 66, 88, 99, 77, 88, 22, 656532, 'Pra', 22, 313, 5645, 556, 678, 589, 'Pra', 'AKA', 22, 33, 55, 55, 66, 88, 99, 77, 88, 22, 656532, 'Pra', 22, 313, 5645, 556, 678, 589, 456, 'Prakash', 456, 'Prakash']\n",
      "[22, 313, 5645, 556, 678, 589, 'Pra', 'AKA', 22, 33, 55, 55, 66, 88, 99, 77, 88, 22, 656532, 'Pra', 22, 313, 5645, 556, 678, 589, 'Pra', 'AKA', 22, 33, 55, 55, 66, 88, 99, 77, 88, 22, 656532, 'Pra', 22, 313, 5645, 556, 678, 589, 'Pra', 'AKA', 22, 33, 55, 55, 66, 88, 99, 77, 88, 22, 656532, 'Pra', 22, 313, 5645, 556, 678, 589, 456, 'Prakash', 456, 'Prakash', 456, 'Prakash']\n"
     ]
    }
   ],
   "source": [
    "list1=['Pra','AKA',22,33,55,55,66,88,99,77,88,22,656532,'Pra']\n",
    "print(list1)\n",
    "list1.extend(list2)\n",
    "print(list2)\n",
    "list2.extend([456,\"Prakash\"])\n",
    "print(list2)\n",
    "list1.append(list2)\n"
   ]
  },
  {
   "cell_type": "code",
   "execution_count": 108,
   "id": "ece0df11",
   "metadata": {},
   "outputs": [
    {
     "name": "stdout",
     "output_type": "stream",
     "text": [
      "[1, 2, 3, 4, ['A', 'a', 'Prakash']]\n",
      "[1, 2, 3, 4, ['A', 'a', 'Prakash'], 'A', 'a', 'Prakash']\n"
     ]
    }
   ],
   "source": [
    "alist=[1,2,3,4]\n",
    "blist=[\"A\",\"a\",\"Prakash\"]\n",
    "alist.append(blist)\n",
    "print(alist)\n",
    "alist.extend(blist)\n",
    "print(alist)"
   ]
  },
  {
   "cell_type": "markdown",
   "id": "f18ea1d8",
   "metadata": {},
   "source": [
    "# Reverse to reverse the list from last to first"
   ]
  },
  {
   "cell_type": "code",
   "execution_count": 114,
   "id": "3051b2b6",
   "metadata": {},
   "outputs": [
    {
     "name": "stdout",
     "output_type": "stream",
     "text": [
      "['Govind', 'Prakash', 'Bansode']\n"
     ]
    }
   ],
   "source": [
    "My_name=['Bansode' ,'Prakash' ,'Govind']\n",
    "My_name.reverse()\n",
    "print(My_name)"
   ]
  },
  {
   "cell_type": "markdown",
   "id": "b227e112",
   "metadata": {},
   "source": [
    "# Sort assending Dessending"
   ]
  },
  {
   "cell_type": "code",
   "execution_count": 121,
   "id": "2a7073c4",
   "metadata": {},
   "outputs": [
    {
     "name": "stdout",
     "output_type": "stream",
     "text": [
      "['latur', 'pune', 'utsunomiya', 'delhi', 'gurugao', 'saitama']\n",
      "['delhi', 'gurugao', 'latur', 'pune', 'saitama', 'utsunomiya']\n"
     ]
    }
   ],
   "source": [
    "city=['latur','pune','utsunomiya','delhi','gurugao',\"saitama\"]\n",
    "print(city)\n",
    "city.sort(reverse=False)\n",
    "print(city)\n"
   ]
  },
  {
   "cell_type": "markdown",
   "id": "756a2524",
   "metadata": {},
   "source": [
    "# 2022/08/01"
   ]
  },
  {
   "cell_type": "code",
   "execution_count": 1,
   "id": "d59d7fce",
   "metadata": {},
   "outputs": [
    {
     "name": "stdout",
     "output_type": "stream",
     "text": [
      "('s', 'sa', 'ga')\n",
      "(11, 22, 33)\n",
      "(22, 50, 33)\n",
      "('at', 'root')\n"
     ]
    }
   ],
   "source": [
    "tup=('s','sa','ga')\n",
    "tup2=(11,22,33)\n",
    "print(tup)\n",
    "print(tup2)\n",
    "tup=(22,50,33)\n",
    "tup2=(\"at\",\"root\")\n",
    "print(tup)\n",
    "print(tup2)"
   ]
  },
  {
   "cell_type": "code",
   "execution_count": 4,
   "id": "fd925b72",
   "metadata": {},
   "outputs": [
    {
     "name": "stdout",
     "output_type": "stream",
     "text": [
      "('at', 'root')\n"
     ]
    }
   ],
   "source": [
    "print(tup2)"
   ]
  },
  {
   "cell_type": "code",
   "execution_count": 1,
   "id": "b33d82e4",
   "metadata": {},
   "outputs": [
    {
     "name": "stdout",
     "output_type": "stream",
     "text": [
      "whatsapp grp\n"
     ]
    }
   ],
   "source": [
    "print(\"whatsapp grp\")"
   ]
  },
  {
   "cell_type": "markdown",
   "id": "19e2e094",
   "metadata": {},
   "source": [
    "# https://chat.whatsapp.com/Cnz53x0k22CLNtjxdl6XBY"
   ]
  },
  {
   "cell_type": "code",
   "execution_count": 9,
   "id": "c949db06",
   "metadata": {
    "scrolled": true
   },
   "outputs": [
    {
     "data": {
      "text/plain": [
       "9"
      ]
     },
     "execution_count": 9,
     "metadata": {},
     "output_type": "execute_result"
    }
   ],
   "source": [
    "tup=(1,2,3,4,'basic','my','name','is','X')\n",
    "len(tup)"
   ]
  },
  {
   "cell_type": "code",
   "execution_count": 11,
   "id": "005dbe60",
   "metadata": {},
   "outputs": [
    {
     "data": {
      "text/plain": [
       "4"
      ]
     },
     "execution_count": 11,
     "metadata": {},
     "output_type": "execute_result"
    }
   ],
   "source": [
    "tup.index('basic')"
   ]
  },
  {
   "cell_type": "code",
   "execution_count": 8,
   "id": "52e12f2c",
   "metadata": {},
   "outputs": [
    {
     "name": "stdout",
     "output_type": "stream",
     "text": [
      "(1, 2, 3, 4, 5, 6, 7, 1, 2, 3, 4, 5, 6, 7, 1, 2, 3, 4, 5, 6, 7, 1, 2, 3, 4, 5, 6, 7)\n"
     ]
    }
   ],
   "source": [
    "a=(1,2,3,4,5,6,7,)\n",
    "b=a*4\n",
    "print(b)"
   ]
  },
  {
   "cell_type": "code",
   "execution_count": 13,
   "id": "64c31b19",
   "metadata": {},
   "outputs": [
    {
     "name": "stdout",
     "output_type": "stream",
     "text": [
      "700\n",
      "58\n"
     ]
    }
   ],
   "source": [
    "tuple=(465,700,200,58)\n",
    "print(max(tuple))\n",
    "print(min(tuple))"
   ]
  },
  {
   "cell_type": "code",
   "execution_count": 16,
   "id": "146890b5",
   "metadata": {},
   "outputs": [
    {
     "ename": "SyntaxError",
     "evalue": "invalid syntax (851785483.py, line 1)",
     "output_type": "error",
     "traceback": [
      "\u001b[1;36m  Input \u001b[1;32mIn [16]\u001b[1;36m\u001b[0m\n\u001b[1;33m    tuple=('a','b','w','c','w','r','d,'e','e','t')\u001b[0m\n\u001b[1;37m                                       ^\u001b[0m\n\u001b[1;31mSyntaxError\u001b[0m\u001b[1;31m:\u001b[0m invalid syntax\n"
     ]
    }
   ],
   "source": [
    "tuple=('a','b','w','c','w','r','d,'e','e','t')\n",
    "print(max(tuple))\n",
    "print(min(tuple))\n"
   ]
  },
  {
   "cell_type": "code",
   "execution_count": 28,
   "id": "758cd554",
   "metadata": {},
   "outputs": [
    {
     "ename": "SyntaxError",
     "evalue": "invalid syntax (1689413691.py, line 1)",
     "output_type": "error",
     "traceback": [
      "\u001b[1;36m  Input \u001b[1;32mIn [28]\u001b[1;36m\u001b[0m\n\u001b[1;33m    tuple1('A','b','W','W','r','d,'e','e','t')\u001b[0m\n\u001b[1;37m                                   ^\u001b[0m\n\u001b[1;31mSyntaxError\u001b[0m\u001b[1;31m:\u001b[0m invalid syntax\n"
     ]
    }
   ],
   "source": [
    "tuple1('A','b','W','W','r','d,'e','e','t')\n",
    "print(max(tuple1)\n",
    "print(min(tuple1)"
   ]
  },
  {
   "cell_type": "markdown",
   "id": "418d237f",
   "metadata": {},
   "source": [
    "# Dictonary #  1.always courly bracket key \n",
    "#2.save the value for perticular set"
   ]
  },
  {
   "cell_type": "code",
   "execution_count": 22,
   "id": "9d8f1df5",
   "metadata": {},
   "outputs": [
    {
     "name": "stdout",
     "output_type": "stream",
     "text": [
      "{'Name': 'Prakash', 'Age': 22, 'Native': 'India', 'Working': 'Japan'}\n"
     ]
    }
   ],
   "source": [
    "a={\"Name\":\"Prakash\", \"Age\":22, \"Native\":\"India\", \"Working\":\"Japan\"}\n",
    "print(a)"
   ]
  },
  {
   "cell_type": "code",
   "execution_count": 24,
   "id": "82b254ba",
   "metadata": {},
   "outputs": [
    {
     "name": "stdout",
     "output_type": "stream",
     "text": [
      "<class 'dict'>\n"
     ]
    }
   ],
   "source": [
    "print(type(a))"
   ]
  },
  {
   "cell_type": "code",
   "execution_count": 27,
   "id": "b9ccd349",
   "metadata": {},
   "outputs": [
    {
     "ename": "TypeError",
     "evalue": "'tuple' object is not callable",
     "output_type": "error",
     "traceback": [
      "\u001b[1;31m---------------------------------------------------------------------------\u001b[0m",
      "\u001b[1;31mTypeError\u001b[0m                                 Traceback (most recent call last)",
      "Input \u001b[1;32mIn [27]\u001b[0m, in \u001b[0;36m<cell line: 3>\u001b[1;34m()\u001b[0m\n\u001b[0;32m      1\u001b[0m age\u001b[38;5;241m=\u001b[39m(\u001b[38;5;241m22\u001b[39m,\u001b[38;5;241m44\u001b[39m,\u001b[38;5;241m55\u001b[39m,\u001b[38;5;241m66\u001b[39m,\u001b[38;5;241m33\u001b[39m,\u001b[38;5;241m11\u001b[39m,\u001b[38;5;241m44\u001b[39m,\u001b[38;5;241m55\u001b[39m,)\n\u001b[0;32m      2\u001b[0m Name\u001b[38;5;241m=\u001b[39m(\u001b[38;5;124m\"\u001b[39m\u001b[38;5;124mprakash\u001b[39m\u001b[38;5;124m\"\u001b[39m,\u001b[38;5;124m\"\u001b[39m\u001b[38;5;124mAkash\u001b[39m\u001b[38;5;124m\"\u001b[39m,\u001b[38;5;124m\"\u001b[39m\u001b[38;5;124mtai\u001b[39m\u001b[38;5;124m\"\u001b[39m)\n\u001b[1;32m----> 3\u001b[0m dict1\u001b[38;5;241m=\u001b[39m{Name:\u001b[38;5;28;43mtuple\u001b[39;49m\u001b[43m(\u001b[49m\u001b[38;5;241;43m2\u001b[39;49m\u001b[43m)\u001b[49m}\n\u001b[0;32m      4\u001b[0m \u001b[38;5;28mprint\u001b[39m(dict1)\n",
      "\u001b[1;31mTypeError\u001b[0m: 'tuple' object is not callable"
     ]
    }
   ],
   "source": [
    "age=(22,44,55,66,33,11,44,55,)\n",
    "Name=(\"prakash\",\"Akash\",\"tai\")\n",
    "dict1={Name:tuple(2)}\n",
    "print(dict1)"
   ]
  },
  {
   "cell_type": "code",
   "execution_count": 33,
   "id": "9280945b",
   "metadata": {},
   "outputs": [
    {
     "name": "stdout",
     "output_type": "stream",
     "text": [
      "Prakash\n",
      "22\n"
     ]
    }
   ],
   "source": [
    "a={'name':'Prakash','age':22}\n",
    "a\n",
    "print(a['name'])\n",
    "print(a['age'])"
   ]
  },
  {
   "cell_type": "code",
   "execution_count": 38,
   "id": "899719d5",
   "metadata": {},
   "outputs": [
    {
     "name": "stdout",
     "output_type": "stream",
     "text": [
      "dict_keys(['name', 'age'])\n",
      "dict_values(['Prakash', 22])\n",
      "dict_items([('name', 'Prakash'), ('age', 22)])\n"
     ]
    },
    {
     "ename": "NameError",
     "evalue": "name 'i' is not defined",
     "output_type": "error",
     "traceback": [
      "\u001b[1;31m---------------------------------------------------------------------------\u001b[0m",
      "\u001b[1;31mNameError\u001b[0m                                 Traceback (most recent call last)",
      "Input \u001b[1;32mIn [38]\u001b[0m, in \u001b[0;36m<cell line: 4>\u001b[1;34m()\u001b[0m\n\u001b[0;32m      2\u001b[0m \u001b[38;5;28mprint\u001b[39m(a\u001b[38;5;241m.\u001b[39mvalues())\n\u001b[0;32m      3\u001b[0m \u001b[38;5;28mprint\u001b[39m(a\u001b[38;5;241m.\u001b[39mitems())\n\u001b[1;32m----> 4\u001b[0m \u001b[38;5;28mprint\u001b[39m(a[\u001b[43mi\u001b[49m])\n",
      "\u001b[1;31mNameError\u001b[0m: name 'i' is not defined"
     ]
    }
   ],
   "source": [
    "print(a.keys())\n",
    "print(a.values())\n",
    "print(a.items())\n",
    "print(a[i])"
   ]
  },
  {
   "cell_type": "code",
   "execution_count": 45,
   "id": "af7be655",
   "metadata": {},
   "outputs": [
    {
     "ename": "TypeError",
     "evalue": "string indices must be integers",
     "output_type": "error",
     "traceback": [
      "\u001b[1;31m---------------------------------------------------------------------------\u001b[0m",
      "\u001b[1;31mTypeError\u001b[0m                                 Traceback (most recent call last)",
      "Input \u001b[1;32mIn [45]\u001b[0m, in \u001b[0;36m<cell line: 2>\u001b[1;34m()\u001b[0m\n\u001b[0;32m      1\u001b[0m Dict \u001b[38;5;241m=\u001b[39m {\u001b[38;5;124m'\u001b[39m\u001b[38;5;124mName\u001b[39m\u001b[38;5;124m'\u001b[39m: \u001b[38;5;124m'\u001b[39m\u001b[38;5;124mTokyo\u001b[39m\u001b[38;5;124m'\u001b[39m, age: {\u001b[38;5;241m1\u001b[39m, \u001b[38;5;241m2\u001b[39m, \u001b[38;5;241m3\u001b[39m, \u001b[38;5;241m4\u001b[39m}}\n\u001b[1;32m----> 2\u001b[0m \u001b[43mDict\u001b[49m\u001b[43m[\u001b[49m\u001b[38;5;124;43m'\u001b[39;49m\u001b[38;5;124;43mName\u001b[39;49m\u001b[38;5;124;43m'\u001b[39;49m\u001b[43m]\u001b[49m\u001b[43m[\u001b[49m\u001b[38;5;124;43m'\u001b[39;49m\u001b[38;5;124;43mage\u001b[39;49m\u001b[38;5;124;43m'\u001b[39;49m\u001b[43m]\u001b[49m\n",
      "\u001b[1;31mTypeError\u001b[0m: string indices must be integers"
     ]
    }
   ],
   "source": [
    "Dict = {'Name': 'Tokyo', age: {1, 2, 3, 4}}\n",
    "Dict['Name']['age']"
   ]
  },
  {
   "cell_type": "code",
   "execution_count": null,
   "id": "b8c6f765",
   "metadata": {},
   "outputs": [],
   "source": [
    "#family Tree\n",
    "#geek grand parents\n",
    "#having 3 kinds C1, D1, E1 married with C2 D2 E4"
   ]
  },
  {
   "cell_type": "code",
   "execution_count": 51,
   "id": "6b018db9",
   "metadata": {},
   "outputs": [
    {
     "ename": "SyntaxError",
     "evalue": "invalid syntax (68249179.py, line 1)",
     "output_type": "error",
     "traceback": [
      "\u001b[1;36m  Input \u001b[1;32mIn [51]\u001b[1;36m\u001b[0m\n\u001b[1;33m    family_tree = {'Geek':{'c1_c2':['CC1','CC2'],,'D1_D2':['DD1','DD2'],'E1_E2':['EE1','EE2']}}\u001b[0m\n\u001b[1;37m                                                 ^\u001b[0m\n\u001b[1;31mSyntaxError\u001b[0m\u001b[1;31m:\u001b[0m invalid syntax\n"
     ]
    }
   ],
   "source": [
    "fam_tree={'Grandpa_Grandma':'Gov_KAV':{'Prakash_Ash', 'Akash'},'Sri_Anu':{'Siddrath','Ritu'},'Muk_maha':{'Rahul','Pooja'}"
   ]
  },
  {
   "cell_type": "code",
   "execution_count": 52,
   "id": "fcb91dfb",
   "metadata": {},
   "outputs": [
    {
     "ename": "NameError",
     "evalue": "name 'family_tree' is not defined",
     "output_type": "error",
     "traceback": [
      "\u001b[1;31m---------------------------------------------------------------------------\u001b[0m",
      "\u001b[1;31mNameError\u001b[0m                                 Traceback (most recent call last)",
      "Input \u001b[1;32mIn [52]\u001b[0m, in \u001b[0;36m<cell line: 1>\u001b[1;34m()\u001b[0m\n\u001b[1;32m----> 1\u001b[0m \u001b[43mfamily_tree\u001b[49m[\u001b[38;5;124m'\u001b[39m\u001b[38;5;124mGrandpa_Grandma\u001b[39m\u001b[38;5;124m'\u001b[39m]\n",
      "\u001b[1;31mNameError\u001b[0m: name 'family_tree' is not defined"
     ]
    }
   ],
   "source": [
    "family_tree['Grandpa_Grandma']"
   ]
  },
  {
   "cell_type": "code",
   "execution_count": null,
   "id": "b3a169c8",
   "metadata": {},
   "outputs": [],
   "source": [
    "Family_tree={}"
   ]
  },
  {
   "cell_type": "code",
   "execution_count": 55,
   "id": "a9e9e9f4",
   "metadata": {},
   "outputs": [
    {
     "name": "stdout",
     "output_type": "stream",
     "text": [
      "{}\n"
     ]
    }
   ],
   "source": [
    "Fam_tree={}\n",
    "print(dict)"
   ]
  },
  {
   "cell_type": "code",
   "execution_count": 1,
   "id": "86364c52",
   "metadata": {},
   "outputs": [
    {
     "name": "stdout",
     "output_type": "stream",
     "text": [
      "{'LAXMAN_Sojer': {'Govind_Kavita': {'Akash', 'Prakash_Ash'}, 'Mukind_mahananda': {'Pooja_X', 'Rahul_X'}, 'Sridhar_Anuja': {'Ritu,Siddarth'}}}\n"
     ]
    }
   ],
   "source": [
    "\n",
    "family_tree={'LAXMAN_Sojer':{'Govind_Kavita':{'Prakash_Ash','Akash'},\n",
    "                             'Mukind_mahananda':{'Rahul_X','Pooja_X'},\n",
    "                             'Sridhar_Anuja':{'Ritu,Siddarth'}}}\n",
    "print(family_tree)\n"
   ]
  },
  {
   "cell_type": "code",
   "execution_count": 2,
   "id": "d217c9cc",
   "metadata": {},
   "outputs": [
    {
     "name": "stdout",
     "output_type": "stream",
     "text": [
      "{'Akash', 'Prakash_Ash'}\n"
     ]
    }
   ],
   "source": [
    "print(family_tree['LAXMAN_Sojer']['Govind_Kavita'])"
   ]
  },
  {
   "cell_type": "markdown",
   "id": "27534fb8",
   "metadata": {},
   "source": [
    "# 2022/08/02"
   ]
  },
  {
   "cell_type": "code",
   "execution_count": 3,
   "id": "5bc3e44b",
   "metadata": {},
   "outputs": [
    {
     "name": "stdout",
     "output_type": "stream",
     "text": [
      "{'fruit': {'mango', 'banana'}, 'byk': {'Bullet', 'yahama'}, 'village': {'mumbai', 'pune'}}\n"
     ]
    }
   ],
   "source": [
    "dict={'fruit':{'mango','banana'},'byk':{'yahama','Bullet'},\n",
    "      'village':{'pune','mumbai',}}\n",
    "print(dict)"
   ]
  },
  {
   "cell_type": "code",
   "execution_count": 10,
   "id": "adba5a7d",
   "metadata": {},
   "outputs": [
    {
     "name": "stdout",
     "output_type": "stream",
     "text": [
      "{'fruit': {'mango', 'banana'}, 'byk': {'Bullet', 'yahama'}, 'village': {'mumbai', 'pune'}}\n"
     ]
    }
   ],
   "source": [
    "dict={'fruit':{'mango','banana'},'byk':{'yahama','Bullet'},\n",
    "      'village':{'pune','mumbai',}}\n",
    "print(dict)"
   ]
  },
  {
   "cell_type": "code",
   "execution_count": 12,
   "id": "e61b7433",
   "metadata": {},
   "outputs": [
    {
     "name": "stdout",
     "output_type": "stream",
     "text": [
      "{}\n"
     ]
    }
   ],
   "source": [
    "dict.clear()\n",
    "print(dict)"
   ]
  },
  {
   "cell_type": "markdown",
   "id": "d0c8ebf5",
   "metadata": {},
   "source": [
    "# set"
   ]
  },
  {
   "cell_type": "code",
   "execution_count": 15,
   "id": "81d394d8",
   "metadata": {},
   "outputs": [
    {
     "name": "stdout",
     "output_type": "stream",
     "text": [
      "first input: {'dog', 'lion', 'cat', 'tiger'}\n"
     ]
    }
   ],
   "source": [
    "animal={'dog','cat','lion','tiger'}\n",
    "print('first input:',animal)\n",
    "animal"
   ]
  },
  {
   "cell_type": "code",
   "execution_count": 24,
   "id": "47d6acc7",
   "metadata": {},
   "outputs": [
    {
     "name": "stdout",
     "output_type": "stream",
     "text": [
      "set()\n",
      "{(8, 2, 3, 4, 6, 5, 8)}\n"
     ]
    }
   ],
   "source": [
    "set1=set()\n",
    "print(set1)\n",
    "set1.add((8,2,3,4,6,5,8))\n",
    "print(set1)"
   ]
  },
  {
   "cell_type": "code",
   "execution_count": 37,
   "id": "8b65e5a3",
   "metadata": {},
   "outputs": [
    {
     "name": "stdout",
     "output_type": "stream",
     "text": [
      "['mon', 'tue', 'wen', 'thu', 'fri', 'sat', 'sun']\n",
      "set {'mon', 'tue', 'sun', 'sat', 'thu', 'wen', 'fri'}\n",
      "list_1 ['mon', 'tue', 'sun', 'sat', 'thu', 'wen', 'fri']\n"
     ]
    }
   ],
   "source": [
    "days=['mon','tue','wen','thu','fri','sat','sun']\n",
    "print( days)\n",
    "days_1=set(days)\n",
    "print('set',days_1)\n",
    "days_2=list(days_1)\n",
    "print( 'list_1' ,days_2)"
   ]
  },
  {
   "cell_type": "code",
   "execution_count": 38,
   "id": "ded81c84",
   "metadata": {},
   "outputs": [
    {
     "data": {
      "text/plain": [
       "{'mon', 'tue', 'wed'}"
      ]
     },
     "execution_count": 38,
     "metadata": {},
     "output_type": "execute_result"
    }
   ],
   "source": [
    "days=set(['mon','tue','wed'])\n",
    "days"
   ]
  },
  {
   "cell_type": "code",
   "execution_count": 43,
   "id": "68feafe6",
   "metadata": {},
   "outputs": [
    {
     "name": "stdout",
     "output_type": "stream",
     "text": [
      "{'tue', 'mon', 'wed'}\n",
      "{'jan', 'june', 'apr', 'mar', 'feb'}\n"
     ]
    }
   ],
   "source": [
    "weekdays=set(['mon','tue','wed',])\n",
    "month=set(['jan','feb','mar','apr','june'])\n",
    "print(weekdays)\n",
    "print(month)\n"
   ]
  },
  {
   "cell_type": "code",
   "execution_count": 44,
   "id": "4a01d07e",
   "metadata": {},
   "outputs": [
    {
     "name": "stdout",
     "output_type": "stream",
     "text": [
      "{'tue', 'mon', 'wed'}\n"
     ]
    }
   ],
   "source": [
    "print(days)"
   ]
  },
  {
   "cell_type": "code",
   "execution_count": 53,
   "id": "7bafe533",
   "metadata": {},
   "outputs": [
    {
     "name": "stdout",
     "output_type": "stream",
     "text": [
      "jan june apr mar feb "
     ]
    }
   ],
   "source": [
    "for d in month:\n",
    "    print(d, end=' ')"
   ]
  },
  {
   "cell_type": "code",
   "execution_count": 59,
   "id": "b8f9af51",
   "metadata": {},
   "outputs": [
    {
     "name": "stdout",
     "output_type": "stream",
     "text": [
      "feb\n"
     ]
    }
   ],
   "source": [
    "print(d\n",
    "     )\n",
    "\n"
   ]
  },
  {
   "cell_type": "code",
   "execution_count": 58,
   "id": "240ee098",
   "metadata": {},
   "outputs": [
    {
     "name": "stdout",
     "output_type": "stream",
     "text": [
      "feb\n"
     ]
    }
   ],
   "source": [
    "print(d)"
   ]
  },
  {
   "cell_type": "code",
   "execution_count": 60,
   "id": "bcf338b7",
   "metadata": {},
   "outputs": [
    {
     "name": "stdout",
     "output_type": "stream",
     "text": [
      "{'tue', 'mon', 'wed'}\n"
     ]
    }
   ],
   "source": [
    "print(days)"
   ]
  },
  {
   "cell_type": "code",
   "execution_count": 73,
   "id": "94260bc3",
   "metadata": {},
   "outputs": [
    {
     "name": "stdout",
     "output_type": "stream",
     "text": [
      "{'mon1', 'tue', 'Thu', 'wed', 'sat', 'sun', 'Fir', 'mon'}\n"
     ]
    }
   ],
   "source": [
    "days=set(['mon','tue','wed','Thu','Fir','sat'])\n",
    "days.add('sun')\n",
    "days.add('mon1')\n",
    "print(days)\n"
   ]
  },
  {
   "cell_type": "code",
   "execution_count": 74,
   "id": "cb7bfa1d",
   "metadata": {},
   "outputs": [
    {
     "name": "stdout",
     "output_type": "stream",
     "text": [
      "{'mon1', 'tue', 'Thu', 'wed', 'sat', 'Fir'}\n"
     ]
    }
   ],
   "source": [
    "days=set(['mon','tue','wed','Thu','Fir','sat'])\n",
    "days.discard('mon')\n",
    "days.add('mon1')\n",
    "print(days)"
   ]
  },
  {
   "cell_type": "code",
   "execution_count": 75,
   "id": "346f4561",
   "metadata": {},
   "outputs": [
    {
     "name": "stdout",
     "output_type": "stream",
     "text": [
      "{'mon1', 'tue', 'Thu', 'wed', 'sat', 'Fir'}\n"
     ]
    }
   ],
   "source": [
    "days=set(['mon','tue','wed','Thu','Fir','sat'])\n",
    "days.remove('mon')\n",
    "days.add('mon1')\n",
    "print(days)"
   ]
  },
  {
   "cell_type": "markdown",
   "id": "fdc9b1ba",
   "metadata": {},
   "source": [
    "# 2022/08/03"
   ]
  },
  {
   "cell_type": "code",
   "execution_count": 7,
   "id": "0a0d5827",
   "metadata": {},
   "outputs": [
    {
     "name": "stdout",
     "output_type": "stream",
     "text": [
      "{'mon', 'tue', 'wed', 'sat, sun', 'fri', 'thu'}\n"
     ]
    }
   ],
   "source": [
    "daysA=set(['mon','tue','wed','thu','fri','sat'', sun'])\n",
    "weekdays=set(['mon','tue','wed','thu','fri'])\n",
    "week=daysA | weekdays\n",
    "print(week)"
   ]
  },
  {
   "cell_type": "code",
   "execution_count": null,
   "id": "62b9b0cb",
   "metadata": {},
   "outputs": [],
   "source": []
  },
  {
   "cell_type": "code",
   "execution_count": 1,
   "id": "1eeb68e2",
   "metadata": {},
   "outputs": [
    {
     "ename": "NameError",
     "evalue": "name 'daysA' is not defined",
     "output_type": "error",
     "traceback": [
      "\u001b[1;31m---------------------------------------------------------------------------\u001b[0m",
      "\u001b[1;31mNameError\u001b[0m                                 Traceback (most recent call last)",
      "Input \u001b[1;32mIn [1]\u001b[0m, in \u001b[0;36m<cell line: 1>\u001b[1;34m()\u001b[0m\n\u001b[1;32m----> 1\u001b[0m \u001b[38;5;28mprint\u001b[39m(\u001b[43mdaysA\u001b[49m\u001b[38;5;241m.\u001b[39munion(weekdays))\n\u001b[0;32m      2\u001b[0m \u001b[38;5;28mprint\u001b[39m(weekdays\u001b[38;5;241m.\u001b[39munion(daysA))\n",
      "\u001b[1;31mNameError\u001b[0m: name 'daysA' is not defined"
     ]
    }
   ],
   "source": [
    "print(daysA.union(weekdays))\n",
    "print(weekdays.union(daysA))"
   ]
  },
  {
   "cell_type": "code",
   "execution_count": 17,
   "id": "b136ab2d",
   "metadata": {},
   "outputs": [
    {
     "name": "stdout",
     "output_type": "stream",
     "text": [
      "{1, 2, 3, 4, 5, 6, 7, 8, 9, 65, 11, 22, 44, 566, 55} {8, 5, 7}\n"
     ]
    }
   ],
   "source": [
    "A={1,2,3,4,5,6,7,8}\n",
    "B={5,6,7,8,9}\n",
    "C={5,7,8,9,4,1,2,11,5,55,566,22,44,65,}\n",
    "D=A|B|C\n",
    "E=A&B&C\n",
    "print(D,E)"
   ]
  },
  {
   "cell_type": "markdown",
   "id": "d709e743",
   "metadata": {},
   "source": [
    "# Intersection"
   ]
  },
  {
   "cell_type": "code",
   "execution_count": 24,
   "id": "7ea7cdc3",
   "metadata": {},
   "outputs": [],
   "source": [
    "AAA= set(['aa','bb',])\n",
    "PPP= set(['kk','dd','aa'])"
   ]
  },
  {
   "cell_type": "code",
   "execution_count": 25,
   "id": "96a4a5e2",
   "metadata": {},
   "outputs": [
    {
     "name": "stdout",
     "output_type": "stream",
     "text": [
      "{'aa'}\n"
     ]
    }
   ],
   "source": [
    "alldays = AAA & PPP\n",
    "print(alldays)"
   ]
  },
  {
   "cell_type": "code",
   "execution_count": 27,
   "id": "99a207c9",
   "metadata": {},
   "outputs": [
    {
     "name": "stdout",
     "output_type": "stream",
     "text": [
      "{65, 5, 3, 7, 8, 11, 44, 566, 55, 22}\n"
     ]
    }
   ],
   "source": [
    "print(A^B^C)"
   ]
  },
  {
   "cell_type": "code",
   "execution_count": 33,
   "id": "94c23f48",
   "metadata": {},
   "outputs": [
    {
     "name": "stdout",
     "output_type": "stream",
     "text": [
      "{1, 2, 3, 4, 9}\n",
      "{65, 5, 3, 7, 8, 11, 44, 566, 55, 22}\n"
     ]
    }
   ],
   "source": [
    "print(A.symmetric_difference(B))\n",
    "print(A^B^C)"
   ]
  },
  {
   "cell_type": "code",
   "execution_count": 45,
   "id": "da01c8ab",
   "metadata": {},
   "outputs": [
    {
     "name": "stdout",
     "output_type": "stream",
     "text": [
      "set()\n"
     ]
    }
   ],
   "source": [
    "A={1,2,3,4,5,6,7,8,9}\n",
    "B={1,2,3,4,5,6,4,7,8,9,4,5,6,1,3}\n",
    "\n",
    "print(A^B)"
   ]
  },
  {
   "cell_type": "code",
   "execution_count": 56,
   "id": "f2f4e534",
   "metadata": {},
   "outputs": [
    {
     "name": "stdout",
     "output_type": "stream",
     "text": [
      "{66, 99, 55, 88, 44, 77, 63}\n",
      "{66, 99, 11, 44, 55, 88, 63}\n",
      "set()\n"
     ]
    }
   ],
   "source": [
    "C={1,2,3,4,5,6,7,8,9,11,22,33,44,55,66,77,88,99}\n",
    "D={55,66,44,77,88,99,55,63,66,44,}\n",
    "E={55,66,44,88,99,22,33,55,66}\n",
    "A.intersection_update(C,D,E,)\n",
    "\n",
    "\n",
    "print(A^D)\n",
    "print(A^B^C^D^E)\n",
    "print(A)"
   ]
  },
  {
   "cell_type": "code",
   "execution_count": 53,
   "id": "61feeea4",
   "metadata": {},
   "outputs": [
    {
     "name": "stdout",
     "output_type": "stream",
     "text": [
      "{'Sunday', 'Saturday'}\n",
      "set()\n",
      "{'Sunday', 'Saturday'}\n",
      "{'Monday', 'Tuesday'}\n"
     ]
    }
   ],
   "source": [
    "DaysA=set(['Saturday','Sunday','Monday','Monday','Tuesday'])\n",
    "DaysB=set(['Monday','Tuesday'])\n",
    "All_days=DaysA-DaysB\n",
    "All_daysK=DaysB-DaysA\n",
    "print(All_days)\n",
    "print(All_daysK)\n",
    "DaysA.symmetric_difference_update(DaysB)\n",
    "print(DaysA)\n",
    "print(DaysB)"
   ]
  },
  {
   "cell_type": "markdown",
   "id": "715c5896",
   "metadata": {},
   "source": [
    "# Super_Set Sub SET"
   ]
  },
  {
   "cell_type": "code",
   "execution_count": 57,
   "id": "b064d4de",
   "metadata": {},
   "outputs": [
    {
     "name": "stdout",
     "output_type": "stream",
     "text": [
      "True\n",
      "False\n",
      "True\n"
     ]
    }
   ],
   "source": [
    "#compare the sets\n",
    "\n",
    "DaysA=set(['Saturday','Sunday','Monday','Monday','Tuesday'])\n",
    "DaysB=set(['Monday','Tuesday'])\n",
    "print(DaysA>DaysB)\n",
    "print(DaysA<DaysB)\n",
    "print(DaysB<DaysA)"
   ]
  },
  {
   "cell_type": "code",
   "execution_count": 60,
   "id": "5fa3a53a",
   "metadata": {},
   "outputs": [
    {
     "name": "stdout",
     "output_type": "stream",
     "text": [
      "{'independence'}\n",
      "{'i', 'p', 'n', 'd', 'c', 'e'}\n"
     ]
    }
   ],
   "source": [
    "a={'independence'}\n",
    "print(a)\n",
    "a=set('independence')\n",
    "print(a)\n"
   ]
  },
  {
   "cell_type": "code",
   "execution_count": null,
   "id": "c691558c",
   "metadata": {},
   "outputs": [],
   "source": []
  },
  {
   "cell_type": "code",
   "execution_count": 14,
   "id": "b18cb533",
   "metadata": {},
   "outputs": [
    {
     "name": "stdout",
     "output_type": "stream",
     "text": [
      "[1, 2, 4, 5, 6, 9, 1, 2, 4, 5, 6, 7, 9, 1, 1, 2, 1, 2]\n"
     ]
    }
   ],
   "source": [
    "a=[1,2,3,4,5,6,8,9,1,2,3,4,5,6,7,8,9,1,3,1,2,1,2]\n",
    "\n",
    "for i in a:\n",
    "    if (i==8) | (i==3):\n",
    "        a.remove(i)\n",
    "print(a)"
   ]
  },
  {
   "cell_type": "code",
   "execution_count": 9,
   "id": "46924429",
   "metadata": {},
   "outputs": [
    {
     "name": "stdout",
     "output_type": "stream",
     "text": [
      "[1, 2, 3, 4, 5, 6, 7, 8, 9]\n",
      "[2, 4, 5, 6, 7, 8, 9]\n"
     ]
    }
   ],
   "source": [
    "A=[1,2,3,4,5,6,7,8,9]\n",
    "print(A)\n",
    "C=A.copy()\n",
    "for i in A:\n",
    "    if (i==1) | (i==3):\n",
    "        C.remove(i)\n",
    "\n",
    "print(C)"
   ]
  },
  {
   "cell_type": "markdown",
   "id": "2d9ef547",
   "metadata": {},
   "source": [
    "# 2022/08/04"
   ]
  },
  {
   "cell_type": "code",
   "execution_count": 19,
   "id": "bc55ff2f",
   "metadata": {},
   "outputs": [
    {
     "name": "stdout",
     "output_type": "stream",
     "text": [
      "[2, 8, 91, 2, 65, 65, 2, 54, 546]\n"
     ]
    }
   ],
   "source": [
    "a=[1,2,3,4,5,6,7,8,91,2,3,5,6,1,65,3,4,65,6,1,2,3,54,6,3,546,]\n",
    "b=[1,3,4,5,6,7]\n",
    "c=[i for i in a if i not in b]\n",
    "print(c)"
   ]
  },
  {
   "cell_type": "code",
   "execution_count": 39,
   "id": "14432573",
   "metadata": {},
   "outputs": [
    {
     "data": {
      "text/plain": [
       "[1, 10, 13, 17, 19, 21, 23, 25, 27]"
      ]
     },
     "execution_count": 39,
     "metadata": {},
     "output_type": "execute_result"
    }
   ],
   "source": [
    "a=[1,2,3,4,5,6,7,8,98,92,2,3,6,2,3,5,3,2,3,2,3,2,3,2,3,2,3,2]\n",
    "b=[]\n",
    "for i in range(len(a)):\n",
    "    if a[i]==2:\n",
    "        b.append(i)\n",
    "b\n",
    "\n"
   ]
  },
  {
   "cell_type": "code",
   "execution_count": 44,
   "id": "84f5df41",
   "metadata": {},
   "outputs": [
    {
     "data": {
      "text/plain": [
       "[1, 4, 13, 22]"
      ]
     },
     "execution_count": 44,
     "metadata": {},
     "output_type": "execute_result"
    }
   ],
   "source": [
    "a=[11,22,33,11,22,33,44,55,66,77,88,99,11,22,33,44,55,66,77,88,99,11,22,33,44]\n",
    "b=[]\n",
    "for i in range(len(a)):\n",
    "    if a[i]==(22):\n",
    "        b.append(i)\n",
    "b"
   ]
  },
  {
   "cell_type": "code",
   "execution_count": 51,
   "id": "f08b402b",
   "metadata": {},
   "outputs": [
    {
     "name": "stdout",
     "output_type": "stream",
     "text": [
      "indexing\n",
      "0 P\n",
      "1 R\n",
      "2 A\n",
      "3 K\n",
      "4 A\n",
      "5 S\n",
      "6 H\n",
      "7 G\n",
      "8 O\n",
      "9 V\n",
      "10 I\n",
      "11 N\n",
      "12 D\n",
      "13 B\n",
      "14 A\n",
      "15 N\n",
      "16 S\n",
      "17 O\n",
      "18 D\n",
      "19 E\n"
     ]
    }
   ],
   "source": [
    "DS='PRAKASHGOVINDBANSODE'\n",
    "print('indexing')\n",
    "for i in range(len(DS)):\n",
    "    print(i, DS[i])\n",
    "\n"
   ]
  },
  {
   "cell_type": "code",
   "execution_count": 54,
   "id": "139a922f",
   "metadata": {},
   "outputs": [
    {
     "name": "stdout",
     "output_type": "stream",
     "text": [
      "index\n",
      "(0, 'prakash')\n",
      "(1, 'Akash')\n",
      "(2, 'Tai')\n"
     ]
    }
   ],
   "source": [
    "DS=['prakash','Akash','Tai' ]\n",
    "print(\"index\")\n",
    "for I in enumerate(DS):\n",
    "    \n",
    "    print(I)"
   ]
  },
  {
   "cell_type": "code",
   "execution_count": 53,
   "id": "3ae49aeb",
   "metadata": {},
   "outputs": [
    {
     "name": "stdout",
     "output_type": "stream",
     "text": [
      "Indices and values in list:\n",
      "(0, 'java')\n",
      "(1, 'python')\n",
      "(2, 'HTML')\n",
      "(3, 'PHP')\n"
     ]
    }
   ],
   "source": [
    "# create a list of subjects\n",
    "data = [\"java\", \"python\", \"HTML\", \"PHP\"]\n",
    " \n",
    " \n",
    "print(\"Indices and values in list:\")\n",
    " \n",
    "# get the indices and values using enumerate method\n",
    "for i in enumerate(data):\n",
    "    print(i)"
   ]
  },
  {
   "cell_type": "code",
   "execution_count": 80,
   "id": "ee932f9b",
   "metadata": {},
   "outputs": [
    {
     "ename": "IndentationError",
     "evalue": "expected an indented block (1976950613.py, line 6)",
     "output_type": "error",
     "traceback": [
      "\u001b[1;36m  Input \u001b[1;32mIn [80]\u001b[1;36m\u001b[0m\n\u001b[1;33m    \u001b[0m\n\u001b[1;37m    ^\u001b[0m\n\u001b[1;31mIndentationError\u001b[0m\u001b[1;31m:\u001b[0m expected an indented block\n"
     ]
    }
   ],
   "source": [
    "a=[2,2,3,2,5,6,2,5,6,2]\n",
    "print(a)\n",
    "b=[]\n",
    "for i in a:\n",
    "    if(i==2):\n",
    "        "
   ]
  },
  {
   "cell_type": "code",
   "execution_count": 55,
   "id": "ae1b21a7",
   "metadata": {},
   "outputs": [
    {
     "name": "stdout",
     "output_type": "stream",
     "text": [
      "[3, 6, 11]\n"
     ]
    }
   ],
   "source": [
    "c=[1,8,5,2,4,1,2,5,8,7,9,2,5,3]\n",
    "count = -1\n",
    "idlist=[]\n",
    "for i in c:\n",
    "    count = count+1\n",
    "    if i==2:\n",
    "        idlist.append(count)\n",
    "print(idlist)\n"
   ]
  },
  {
   "cell_type": "code",
   "execution_count": 105,
   "id": "2246da11",
   "metadata": {},
   "outputs": [
    {
     "data": {
      "text/plain": [
       "[3, 5, 1, 3, 1, 7]"
      ]
     },
     "execution_count": 105,
     "metadata": {},
     "output_type": "execute_result"
    }
   ],
   "source": [
    "a=[2,2,3,5,6,1,4,3,1,2,7]\n",
    "oddlist=[]\n",
    "for i in a:\n",
    "    if i%2!=0:\n",
    "        oddlist.append(i)\n",
    "oddlist\n",
    "        "
   ]
  },
  {
   "cell_type": "code",
   "execution_count": null,
   "id": "d5f6b217",
   "metadata": {},
   "outputs": [],
   "source": [
    "#perfect squre between 0 to 1000 that are divisible 3 and 9"
   ]
  },
  {
   "cell_type": "code",
   "execution_count": null,
   "id": "93fa2b24",
   "metadata": {},
   "outputs": [],
   "source": [
    "start, end = 1, 1000"
   ]
  },
  {
   "cell_type": "code",
   "execution_count": null,
   "id": "f6f1a90f",
   "metadata": {},
   "outputs": [],
   "source": [
    "print('perfect squre between 0 to 1000 that are divisible 3 and 9')\n"
   ]
  },
  {
   "cell_type": "code",
   "execution_count": 67,
   "id": "8b44fcc7",
   "metadata": {},
   "outputs": [
    {
     "ename": "SyntaxError",
     "evalue": "invalid syntax (3870301245.py, line 2)",
     "output_type": "error",
     "traceback": [
      "\u001b[1;36m  Input \u001b[1;32mIn [67]\u001b[1;36m\u001b[0m\n\u001b[1;33m    if num / num=1:\u001b[0m\n\u001b[1;37m                ^\u001b[0m\n\u001b[1;31mSyntaxError\u001b[0m\u001b[1;31m:\u001b[0m invalid syntax\n"
     ]
    }
   ],
   "source": [
    "for num in range(start , end +1):\n",
    "    if num / num=1:\n",
    "        print(num, end=\"\")\n",
    "    "
   ]
  },
  {
   "cell_type": "code",
   "execution_count": 69,
   "id": "2a2b5c50",
   "metadata": {},
   "outputs": [
    {
     "ename": "SyntaxError",
     "evalue": "invalid syntax (3614955184.py, line 1)",
     "output_type": "error",
     "traceback": [
      "\u001b[1;36m  Input \u001b[1;32mIn [69]\u001b[1;36m\u001b[0m\n\u001b[1;33m    a=[start, end = 2,1000]\u001b[0m\n\u001b[1;37m                  ^\u001b[0m\n\u001b[1;31mSyntaxError\u001b[0m\u001b[1;31m:\u001b[0m invalid syntax\n"
     ]
    }
   ],
   "source": [
    "a=[start, end = 2,1000]\n",
    "print(a)"
   ]
  },
  {
   "cell_type": "code",
   "execution_count": 70,
   "id": "2daf3d20",
   "metadata": {},
   "outputs": [
    {
     "name": "stdout",
     "output_type": "stream",
     "text": [
      "[range(1, 1000)]\n"
     ]
    }
   ],
   "source": [
    "a=[range(1,1000)]\n",
    "print(a)\n"
   ]
  },
  {
   "cell_type": "code",
   "execution_count": 123,
   "id": "7d780456",
   "metadata": {},
   "outputs": [
    {
     "name": "stdout",
     "output_type": "stream",
     "text": [
      "[9]\n",
      "[36]\n",
      "[81]\n",
      "[144]\n",
      "[225]\n",
      "[324]\n",
      "[441]\n",
      "[576]\n",
      "[729]\n",
      "[900]\n",
      "[1089]\n"
     ]
    }
   ],
   "source": [
    "for A in range(2,35):\n",
    "    B=(A*A)\n",
    "    C=[]\n",
    "    if B%3== 0 | B%9== 0:\n",
    "        C.append(B)\n",
    "        print(C)\n",
    "    \n",
    "   "
   ]
  },
  {
   "cell_type": "code",
   "execution_count": 125,
   "id": "1f57bd33",
   "metadata": {},
   "outputs": [
    {
     "data": {
      "text/plain": [
       "36"
      ]
     },
     "execution_count": 125,
     "metadata": {},
     "output_type": "execute_result"
    }
   ],
   "source": [
    "6*6\n",
    "\n"
   ]
  },
  {
   "cell_type": "code",
   "execution_count": 34,
   "id": "f800cfdc",
   "metadata": {},
   "outputs": [
    {
     "ename": "SyntaxError",
     "evalue": "invalid syntax (2051047396.py, line 1)",
     "output_type": "error",
     "traceback": [
      "\u001b[1;36m  Input \u001b[1;32mIn [34]\u001b[1;36m\u001b[0m\n\u001b[1;33m    a in range (1,1000):\u001b[0m\n\u001b[1;37m                        ^\u001b[0m\n\u001b[1;31mSyntaxError\u001b[0m\u001b[1;31m:\u001b[0m invalid syntax\n"
     ]
    }
   ],
   "source": [
    "a in range (1,1000):\n",
    "    for i in a:\n",
    "        if ((i*i)%3==0) & ((i*i)%9==0) & ((i*i)<=1000):\n",
    "            a.append(i*i)\n",
    "a"
   ]
  },
  {
   "cell_type": "code",
   "execution_count": 41,
   "id": "60400c16",
   "metadata": {},
   "outputs": [
    {
     "data": {
      "text/plain": [
       "{'list_1': [0, 1, 2], 'list_2': [3, 4, 5], 'list_3': [6, 7, 8]}"
      ]
     },
     "execution_count": 41,
     "metadata": {},
     "output_type": "execute_result"
    }
   ],
   "source": [
    "dict_2={'list_1' : list(range(0,3)),'list_2':list(range(3,6)),'list_3':list(range(6,9))}\n",
    "dict_2"
   ]
  },
  {
   "cell_type": "code",
   "execution_count": 50,
   "id": "fede3e06",
   "metadata": {},
   "outputs": [
    {
     "name": "stdout",
     "output_type": "stream",
     "text": [
      "1\n",
      "4\n",
      "7\n"
     ]
    }
   ],
   "source": [
    "for i in dict_2.values():\n",
    "    print (i[1])"
   ]
  },
  {
   "cell_type": "code",
   "execution_count": 59,
   "id": "234ea8f8",
   "metadata": {},
   "outputs": [
    {
     "data": {
      "text/plain": [
       "{'list_1': [0, 1, 2, 3, 4, 5],\n",
       " 'list_2': [6, 7, 8, 9, 10],\n",
       " 'list_3': [11, 12, 13, 14, 15],\n",
       " 'list_4': [16, 17, 18, 19, 20],\n",
       " 'list_5': [21, 22, 23, 24, 25]}"
      ]
     },
     "execution_count": 59,
     "metadata": {},
     "output_type": "execute_result"
    }
   ],
   "source": [
    "dict_2={'list_1' : list(range(0,6)),\n",
    "        'list_2':list(range(6,11)),\n",
    "        'list_3':list(range(11,16)),\n",
    "        'list_4':list(range(16,21))\n",
    "       ,\n",
    "        'list_5':list(range(21,26))}\n",
    "dict_2\n",
    "\n",
    "\n",
    "#call for 0,7,13,19,25"
   ]
  },
  {
   "cell_type": "code",
   "execution_count": 58,
   "id": "6c39359b",
   "metadata": {},
   "outputs": [
    {
     "name": "stdout",
     "output_type": "stream",
     "text": [
      "1\n",
      "7\n",
      "12\n",
      "17\n",
      "22\n"
     ]
    }
   ],
   "source": [
    "for i in dict_2.values():\n",
    "    print(i[1])"
   ]
  },
  {
   "cell_type": "code",
   "execution_count": null,
   "id": "eeca9f48",
   "metadata": {},
   "outputs": [],
   "source": []
  },
  {
   "cell_type": "code",
   "execution_count": 111,
   "id": "b3d8561a",
   "metadata": {},
   "outputs": [
    {
     "name": "stdout",
     "output_type": "stream",
     "text": [
      "0\n",
      "1\n",
      "2\n",
      "3\n",
      "4\n",
      "5\n",
      "Finally finished!\n"
     ]
    }
   ],
   "source": [
    "for x in range(6):\n",
    "  print(x)\n",
    "else:\n",
    "  print(\"Finally finished!\")"
   ]
  },
  {
   "cell_type": "code",
   "execution_count": 95,
   "id": "633afa5d",
   "metadata": {},
   "outputs": [
    {
     "ename": "SyntaxError",
     "evalue": "invalid syntax (3807248405.py, line 2)",
     "output_type": "error",
     "traceback": [
      "\u001b[1;36m  Input \u001b[1;32mIn [95]\u001b[1;36m\u001b[0m\n\u001b[1;33m    for B in range(A, 1000, *A)\u001b[0m\n\u001b[1;37m                               ^\u001b[0m\n\u001b[1;31mSyntaxError\u001b[0m\u001b[1;31m:\u001b[0m invalid syntax\n"
     ]
    }
   ],
   "source": [
    "A is int\n",
    "for B in range(A, 1000, *A)\n",
    "print(B)\n"
   ]
  },
  {
   "cell_type": "code",
   "execution_count": 96,
   "id": "ea4d56a9",
   "metadata": {},
   "outputs": [
    {
     "name": "stdout",
     "output_type": "stream",
     "text": [
      "2\n",
      "5\n",
      "8\n",
      "11\n",
      "14\n",
      "17\n",
      "20\n",
      "23\n",
      "26\n",
      "29\n"
     ]
    }
   ],
   "source": [
    "for x in range(2, 30, 3):\n",
    "  print(x)"
   ]
  },
  {
   "cell_type": "code",
   "execution_count": 5,
   "id": "d13dc528",
   "metadata": {},
   "outputs": [
    {
     "ename": "SyntaxError",
     "evalue": "invalid syntax (264879282.py, line 6)",
     "output_type": "error",
     "traceback": [
      "\u001b[1;36m  Input \u001b[1;32mIn [5]\u001b[1;36m\u001b[0m\n\u001b[1;33m    else:\u001b[0m\n\u001b[1;37m    ^\u001b[0m\n\u001b[1;31mSyntaxError\u001b[0m\u001b[1;31m:\u001b[0m invalid syntax\n"
     ]
    }
   ],
   "source": [
    "def len_nested(a):\n",
    "    count=0\n",
    "    for i in a:\n",
    "        if type(i)==list:\n",
    "            count+=len_nested(i)\n",
    "            else:\n",
    "                count+=1\n",
    "        return count"
   ]
  },
  {
   "cell_type": "markdown",
   "id": "85e19373",
   "metadata": {},
   "source": [
    "# 20220608"
   ]
  },
  {
   "cell_type": "code",
   "execution_count": 35,
   "id": "b86c1237",
   "metadata": {},
   "outputs": [],
   "source": [
    "alist=['Zara','abc',[123,321,455,['nkiller','GJSJ','JKSJKS','JSKjks'],654,789,987],'KIller']\n"
   ]
  },
  {
   "cell_type": "code",
   "execution_count": 39,
   "id": "e26ff0f1",
   "metadata": {},
   "outputs": [],
   "source": [
    "def len_nested(a):\n",
    "    count=0\n",
    "    for i in a:\n",
    "        if type(i)==list:\n",
    "            count+=len_nested(i)\n",
    "        else:\n",
    "                count+=1\n",
    "    return count\n",
    "\n",
    "    "
   ]
  },
  {
   "cell_type": "code",
   "execution_count": 37,
   "id": "825efe2c",
   "metadata": {},
   "outputs": [
    {
     "data": {
      "text/plain": [
       "13"
      ]
     },
     "execution_count": 37,
     "metadata": {},
     "output_type": "execute_result"
    }
   ],
   "source": [
    "len_nested(alist)"
   ]
  },
  {
   "cell_type": "code",
   "execution_count": 11,
   "id": "02bbf6b8",
   "metadata": {},
   "outputs": [],
   "source": [
    "def TO_count(A):\n",
    "    count=0\n",
    "    for i in A :\n",
    "        if type(i)==list:\n",
    "            count+=TO_count(i)\n",
    "        else:\n",
    "                count+=1\n",
    "    return count"
   ]
  },
  {
   "cell_type": "code",
   "execution_count": 12,
   "id": "70e828df",
   "metadata": {},
   "outputs": [
    {
     "ename": "NameError",
     "evalue": "name 'alist' is not defined",
     "output_type": "error",
     "traceback": [
      "\u001b[1;31m---------------------------------------------------------------------------\u001b[0m",
      "\u001b[1;31mNameError\u001b[0m                                 Traceback (most recent call last)",
      "Input \u001b[1;32mIn [12]\u001b[0m, in \u001b[0;36m<cell line: 1>\u001b[1;34m()\u001b[0m\n\u001b[1;32m----> 1\u001b[0m TO_count(\u001b[43malist\u001b[49m)\n",
      "\u001b[1;31mNameError\u001b[0m: name 'alist' is not defined"
     ]
    }
   ],
   "source": [
    "TO_count(alist)"
   ]
  },
  {
   "cell_type": "code",
   "execution_count": 15,
   "id": "b2d7cf85",
   "metadata": {},
   "outputs": [
    {
     "name": "stdout",
     "output_type": "stream",
     "text": [
      "7\n",
      "14\n",
      "21\n",
      "28\n",
      "35\n",
      "42\n",
      "49\n",
      "56\n",
      "63\n",
      "70\n",
      "77\n",
      "84\n",
      "91\n",
      "98\n",
      "105\n",
      "112\n",
      "119\n",
      "126\n",
      "133\n",
      "140\n",
      "147\n",
      "154\n",
      "161\n",
      "168\n",
      "175\n",
      "182\n",
      "189\n",
      "196\n",
      "203\n"
     ]
    }
   ],
   "source": [
    "for a in range (1,30):\n",
    "    print(a*7)"
   ]
  },
  {
   "cell_type": "code",
   "execution_count": 20,
   "id": "81aeb5bd",
   "metadata": {},
   "outputs": [
    {
     "name": "stdout",
     "output_type": "stream",
     "text": [
      "[5.0, 10.0, 15.0, 20.0, 25.0, 30.0, 35.0, 40.0, 45.0, 50.0, 55.0, 60.0, 65.0, 70.0, 75.0, 80.0, 85.0, 90.0, 95.0, 100.0, 105.0, 110.0, 115.0, 120.0, 125.0, 130.0, 135.0, 140.0, 145.0, 150.0, 155.0, 160.0, 165.0, 170.0, 175.0, 180.0, 185.0, 190.0, 195.0, 200.0, 205.0, 210.0, 215.0, 220.0, 225.0, 230.0, 235.0, 240.0, 245.0, 250.0, 255.0, 260.0, 265.0, 270.0, 275.0, 280.0, 285.0, 290.0, 295.0, 300.0, 305.0, 310.0, 315.0]\n"
     ]
    }
   ],
   "source": [
    "sroot=[]\n",
    "for i in range(1,100000):\n",
    "    if (i**0.5)%5==0:\n",
    "        sroot.append(i**0.5)\n",
    "print(sroot)"
   ]
  },
  {
   "cell_type": "code",
   "execution_count": 27,
   "id": "a208bd8c",
   "metadata": {},
   "outputs": [
    {
     "name": "stdout",
     "output_type": "stream",
     "text": [
      "25.0\n"
     ]
    }
   ],
   "source": [
    "print(625**0.5\n",
    "     )"
   ]
  },
  {
   "cell_type": "code",
   "execution_count": 1,
   "id": "47f3b554",
   "metadata": {},
   "outputs": [
    {
     "ename": "NameError",
     "evalue": "name 'np' is not defined",
     "output_type": "error",
     "traceback": [
      "\u001b[1;31m---------------------------------------------------------------------------\u001b[0m",
      "\u001b[1;31mNameError\u001b[0m                                 Traceback (most recent call last)",
      "Input \u001b[1;32mIn [1]\u001b[0m, in \u001b[0;36m<cell line: 1>\u001b[1;34m()\u001b[0m\n\u001b[1;32m----> 1\u001b[0m a\u001b[38;5;241m=\u001b[39m\u001b[43mnp\u001b[49m\u001b[38;5;241m.\u001b[39marray([\u001b[38;5;241m1\u001b[39m,\u001b[38;5;241m2\u001b[39m,\u001b[38;5;241m3\u001b[39m],\n\u001b[0;32m      2\u001b[0m           [\u001b[38;5;241m4\u001b[39m,\u001b[38;5;241m5\u001b[39m,\u001b[38;5;241m6\u001b[39m],\n\u001b[0;32m      3\u001b[0m           [\u001b[38;5;241m7\u001b[39m,\u001b[38;5;241m8\u001b[39m,\u001b[38;5;241m9\u001b[39m])\n\u001b[0;32m      4\u001b[0m a\n",
      "\u001b[1;31mNameError\u001b[0m: name 'np' is not defined"
     ]
    }
   ],
   "source": [
    "a=np.array([1,2,3],\n",
    "          [4,5,6],\n",
    "          [7,8,9])\n",
    "a\n"
   ]
  },
  {
   "cell_type": "code",
   "execution_count": 2,
   "id": "219ce473",
   "metadata": {},
   "outputs": [
    {
     "ename": "NameError",
     "evalue": "name 'np' is not defined",
     "output_type": "error",
     "traceback": [
      "\u001b[1;31m---------------------------------------------------------------------------\u001b[0m",
      "\u001b[1;31mNameError\u001b[0m                                 Traceback (most recent call last)",
      "Input \u001b[1;32mIn [2]\u001b[0m, in \u001b[0;36m<cell line: 1>\u001b[1;34m()\u001b[0m\n\u001b[1;32m----> 1\u001b[0m \u001b[43mnp\u001b[49m\u001b[38;5;241m.\u001b[39marange(\u001b[38;5;241m16\u001b[39m,\u001b[38;5;241m-\u001b[39m\u001b[38;5;241m1\u001b[39m,\u001b[38;5;241m-\u001b[39m\u001b[38;5;241m1\u001b[39m)\n",
      "\u001b[1;31mNameError\u001b[0m: name 'np' is not defined"
     ]
    }
   ],
   "source": [
    "np.arange(16,-1,-1)"
   ]
  },
  {
   "cell_type": "code",
   "execution_count": 3,
   "id": "a81ff8d2",
   "metadata": {},
   "outputs": [
    {
     "name": "stdout",
     "output_type": "stream",
     "text": [
      "9\n"
     ]
    }
   ],
   "source": [
    "basket=[1,2,3,4,56,6,5,8,6,]\n",
    "print(len(basket))"
   ]
  },
  {
   "cell_type": "code",
   "execution_count": 32,
   "id": "cc861a22",
   "metadata": {},
   "outputs": [
    {
     "ename": "AttributeError",
     "evalue": "'list' object has no attribute 'add'",
     "output_type": "error",
     "traceback": [
      "\u001b[1;31m---------------------------------------------------------------------------\u001b[0m",
      "\u001b[1;31mAttributeError\u001b[0m                            Traceback (most recent call last)",
      "Input \u001b[1;32mIn [32]\u001b[0m, in \u001b[0;36m<cell line: 2>\u001b[1;34m()\u001b[0m\n\u001b[0;32m      1\u001b[0m \u001b[38;5;66;03m#add\u001b[39;00m\n\u001b[1;32m----> 2\u001b[0m \u001b[43mbasket\u001b[49m\u001b[38;5;241;43m.\u001b[39;49m\u001b[43madd\u001b[49m([\u001b[38;5;124m'\u001b[39m\u001b[38;5;124mpen\u001b[39m\u001b[38;5;124m'\u001b[39m])\n\u001b[0;32m      3\u001b[0m \u001b[38;5;28mprint\u001b[39m(basket)\n",
      "\u001b[1;31mAttributeError\u001b[0m: 'list' object has no attribute 'add'"
     ]
    }
   ],
   "source": [
    "#add\n",
    "basket.add(['pen'])\n",
    "print(basket)"
   ]
  },
  {
   "cell_type": "code",
   "execution_count": 31,
   "id": "d20109fd",
   "metadata": {},
   "outputs": [],
   "source": [
    "basket.extend('pen')"
   ]
  },
  {
   "cell_type": "code",
   "execution_count": 42,
   "id": "98c1ca73",
   "metadata": {},
   "outputs": [],
   "source": [
    "basket=['a','b', 'x' ,'c','d','e','f']\n",
    "\n",
    "new_basket=basket[:]\n"
   ]
  },
  {
   "cell_type": "code",
   "execution_count": 46,
   "id": "8dc103e2",
   "metadata": {},
   "outputs": [
    {
     "name": "stdout",
     "output_type": "stream",
     "text": [
      "['a', 'b', 'c', 'd', 'e', 'f', 'x']\n",
      "['a', 'b', 'c', 'd', 'e', 'f', 'x']\n",
      "['f', 'e', 'd', 'c', 'x', 'b', 'a']\n"
     ]
    }
   ],
   "source": [
    "\n",
    "\n",
    "print(new_basket)\n",
    "new_basket.sort()\n",
    "print(new_basket)\n",
    "basket.reverse()\n",
    "print(basket)"
   ]
  },
  {
   "cell_type": "code",
   "execution_count": 47,
   "id": "d268dbe1",
   "metadata": {},
   "outputs": [
    {
     "name": "stdout",
     "output_type": "stream",
     "text": [
      "7\n"
     ]
    }
   ],
   "source": [
    "print(len(basket))"
   ]
  },
  {
   "cell_type": "code",
   "execution_count": 49,
   "id": "aa13135d",
   "metadata": {},
   "outputs": [
    {
     "name": "stdout",
     "output_type": "stream",
     "text": [
      "['a', 'b', 'x', 'c', 'd', 'e', 'f']\n",
      "['f', 'e', 'd', 'c', 'x', 'b', 'a']\n"
     ]
    }
   ],
   "source": [
    "print(basket[::-1])\n",
    "print(basket)"
   ]
  },
  {
   "cell_type": "code",
   "execution_count": 52,
   "id": "0190eff2",
   "metadata": {},
   "outputs": [
    {
     "name": "stdout",
     "output_type": "stream",
     "text": [
      "[1, 2, 3, 4, 5, 6, 7, 8, 9, 10, 11, 12, 13, 14, 15, 16, 17, 18, 19, 20, 21, 22, 23, 24, 25, 26, 27, 28, 29, 30, 31, 32, 33, 34, 35, 36, 37, 38, 39, 40, 41, 42, 43, 44, 45, 46, 47, 48, 49, 50, 51, 52, 53, 54, 55, 56, 57, 58, 59, 60, 61, 62, 63, 64, 65, 66, 67, 68, 69, 70, 71, 72, 73, 74, 75, 76, 77, 78, 79, 80, 81, 82, 83, 84, 85, 86, 87, 88, 89, 90, 91, 92, 93, 94, 95, 96, 97, 98, 99]\n"
     ]
    }
   ],
   "source": [
    "print(list(range(1,100)))"
   ]
  },
  {
   "cell_type": "code",
   "execution_count": null,
   "id": "943bb295",
   "metadata": {},
   "outputs": [],
   "source": [
    "''.join()"
   ]
  },
  {
   "cell_type": "code",
   "execution_count": 60,
   "id": "c6d317f9",
   "metadata": {},
   "outputs": [
    {
     "name": "stdout",
     "output_type": "stream",
     "text": [
      "my name is Prakash\n"
     ]
    }
   ],
   "source": [
    "\n",
    "WHat_NAME=' '.join(['my', 'name' ,'is' ,'Prakash'])\n",
    "print(WHat_NAME)"
   ]
  },
  {
   "cell_type": "code",
   "execution_count": null,
   "id": "af3080ff",
   "metadata": {},
   "outputs": [],
   "source": [
    "#list UNPACKING"
   ]
  },
  {
   "cell_type": "code",
   "execution_count": 69,
   "id": "255dbd9a",
   "metadata": {},
   "outputs": [],
   "source": [
    "a,b,c,= [1,2,3]"
   ]
  },
  {
   "cell_type": "code",
   "execution_count": 70,
   "id": "1fae3d5c",
   "metadata": {},
   "outputs": [
    {
     "name": "stdout",
     "output_type": "stream",
     "text": [
      "1\n"
     ]
    }
   ],
   "source": [
    "print(a)\n"
   ]
  },
  {
   "cell_type": "code",
   "execution_count": 71,
   "id": "01ecdfc9",
   "metadata": {},
   "outputs": [
    {
     "name": "stdout",
     "output_type": "stream",
     "text": [
      "None\n"
     ]
    }
   ],
   "source": [
    "a=None\n",
    "print(a)"
   ]
  },
  {
   "cell_type": "code",
   "execution_count": null,
   "id": "1f8609ce",
   "metadata": {},
   "outputs": [],
   "source": [
    "#Dictonary"
   ]
  },
  {
   "cell_type": "code",
   "execution_count": 74,
   "id": "69cc2442",
   "metadata": {},
   "outputs": [
    {
     "name": "stdout",
     "output_type": "stream",
     "text": [
      "{'a': 1, 'b': 2, 'X': 3}\n"
     ]
    }
   ],
   "source": [
    "dictonary={\n",
    "    'a':1,\n",
    "    'b':2,\n",
    "    'X':3\n",
    "}\n",
    "\n",
    "print(dictonary)"
   ]
  },
  {
   "cell_type": "code",
   "execution_count": 90,
   "id": "6754ac88",
   "metadata": {},
   "outputs": [
    {
     "name": "stdout",
     "output_type": "stream",
     "text": [
      "['Amira', 'Carrie', 'Chu', 'Joy', 'Patty', 'Simon', 'Stanley']\n"
     ]
    }
   ],
   "source": [
    "#fix this code so that it prints a sorted list of all of our friends (alphabetical). Scroll to see answer\n",
    "\n",
    "\n",
    "friends = ['Simon', 'Patty', 'Joy', 'Carrie', 'Amira', 'Chu']\n",
    "\n",
    "new_friend = ['Stanley']\n",
    "friends.extend(new_friend)\n",
    "print(sorted(friends))"
   ]
  },
  {
   "cell_type": "code",
   "execution_count": 91,
   "id": "f1a1e650",
   "metadata": {},
   "outputs": [
    {
     "name": "stdout",
     "output_type": "stream",
     "text": [
      "{}\n"
     ]
    }
   ],
   "source": [
    "car = {\n",
    "  \"brand\": \"Ford\",\n",
    "  \"model\": \"Mustang\",\n",
    "  \"year\": 1964\n",
    "}\n",
    "\n",
    "car.clear()\n",
    "\n",
    "print(car)"
   ]
  },
  {
   "cell_type": "code",
   "execution_count": 93,
   "id": "88dbbe21",
   "metadata": {},
   "outputs": [
    {
     "name": "stdout",
     "output_type": "stream",
     "text": [
      "{'brand': 'Ford', 'model': 'Mustang', 'year': 1964}\n",
      "{'brand': 'Ford', 'model': 'Mustang', 'year': 1964}\n"
     ]
    }
   ],
   "source": [
    "car = {\n",
    "  \"brand\": \"Ford\",\n",
    "  \"model\": \"Mustang\",\n",
    "  \"year\": 1964\n",
    "}\n",
    "\n",
    "x = car.copy()\n",
    "\n",
    "print(x)\n",
    "print(car.)"
   ]
  },
  {
   "cell_type": "code",
   "execution_count": 94,
   "id": "a2e0a8ab",
   "metadata": {},
   "outputs": [
    {
     "name": "stdout",
     "output_type": "stream",
     "text": [
      "Mustang\n"
     ]
    }
   ],
   "source": [
    "car = {\n",
    "  \"brand\": \"Ford\",\n",
    "  \"model\": \"Mustang\",\n",
    "  \"year\": 1964\n",
    "}\n",
    "\n",
    "x = car.get(\"model\")\n",
    "\n",
    "print(x)"
   ]
  },
  {
   "cell_type": "code",
   "execution_count": 95,
   "id": "8f3ccb96",
   "metadata": {},
   "outputs": [
    {
     "name": "stdout",
     "output_type": "stream",
     "text": [
      "dict_items([('brand', 'Ford'), ('model', 'Mustang'), ('year', 1964)])\n"
     ]
    }
   ],
   "source": [
    "car = {\n",
    "  \"brand\": \"Ford\",\n",
    "  \"model\": \"Mustang\",\n",
    "  \"year\": 1964\n",
    "}\n",
    "\n",
    "x = car.items()\n",
    "\n",
    "print(x)"
   ]
  },
  {
   "cell_type": "code",
   "execution_count": 96,
   "id": "18230d56",
   "metadata": {},
   "outputs": [
    {
     "name": "stdout",
     "output_type": "stream",
     "text": [
      "dict_keys(['brand', 'model', 'year'])\n"
     ]
    }
   ],
   "source": [
    "car = {\n",
    "  \"brand\": \"Ford\",\n",
    "  \"model\": \"Mustang\",\n",
    "  \"year\": 1964\n",
    "}\n",
    "\n",
    "x = car.keys()\n",
    "\n",
    "print(x)"
   ]
  },
  {
   "cell_type": "code",
   "execution_count": 100,
   "id": "126e7c66",
   "metadata": {},
   "outputs": [
    {
     "name": "stdout",
     "output_type": "stream",
     "text": [
      "{'brand': 'Ford', 'model': 'Mustang'}\n"
     ]
    }
   ],
   "source": [
    "car = {\n",
    "  \"brand\": \"Ford\",\n",
    "  \"model\": \"Mustang\",\n",
    "  \"year\": 1964\n",
    "}\n",
    "\n",
    "car.pop(\"year\")\n",
    "\n",
    "print(car)"
   ]
  },
  {
   "cell_type": "code",
   "execution_count": 101,
   "id": "4647ad11",
   "metadata": {},
   "outputs": [
    {
     "name": "stdout",
     "output_type": "stream",
     "text": [
      "dict_values(['Ford', 'Mustang', 1964])\n"
     ]
    }
   ],
   "source": [
    "car = {\n",
    "  \"brand\": \"Ford\",\n",
    "  \"model\": \"Mustang\",\n",
    "  \"year\": 1964\n",
    "}\n",
    "\n",
    "x = car.values()\n",
    "\n",
    "print(x)"
   ]
  },
  {
   "cell_type": "code",
   "execution_count": 109,
   "id": "3ba79012",
   "metadata": {},
   "outputs": [
    {
     "name": "stdout",
     "output_type": "stream",
     "text": [
      "dict_keys(['age', 'username', 'weapons', 'is_active', 'clan'])\n",
      "{'age': 22, 'username': 'Shogun', 'weapons': ['katana', 'shuriken', 'shield'], 'is_active': True, 'clan': 'Japan'}\n",
      "{'age': 22, 'username': 'Shogun', 'weapons': ['katana', 'shuriken', 'shield'], 'is_active': True, 'clan': 'Japan', 'is_banned': False}\n",
      "{'age': 22, 'username': 'Shogun', 'weapons': ['katana', 'shuriken', 'shield'], 'is_active': True, 'clan': 'Japan', 'is_banned': True}\n"
     ]
    }
   ],
   "source": [
    "#Scroll down to see the answers!\n",
    "#1 Create a user profile for your new game. This user profile will be stored in a dictionary with keys: 'age', 'username', 'weapons', 'is_active' and 'clan'\n",
    "\n",
    "#2 iterate and print all the keys in the above user.\n",
    "\n",
    "#3 Add a new weapon to your user\n",
    "\n",
    "#4 Add a new key to include 'is_banned'. Set it to false\n",
    "\n",
    "#5 Ban the user by setting the previous key to True\n",
    "\n",
    "#6 create a new user2 my copying the previous user and update the age value and username value. \n",
    "\n",
    "\n",
    "\n",
    "\n",
    "#Solutions:\n",
    "#1 Create a user profile for your new game. This user profile will be stored in a dictionary with keys: 'age', 'username', 'weapons', 'is_active' and 'clan'\n",
    "user = {\n",
    "    'age': 22,\n",
    "    'username': 'Shogun',\n",
    "    'weapons': ['katana', 'shuriken'],\n",
    "    'is_active': True,\n",
    "    'clan': 'Japan'\n",
    " }\n",
    "\n",
    "#2 iterate and print all the keys in the above user.\n",
    "print(user.keys())\n",
    "#3 Add a new weapon to your user\n",
    "user['weapons'].append('shield')\n",
    "print(user)\n",
    "\n",
    "#4 Add a new key to include 'is_banned'. Set it to false\n",
    "user.update({'is_banned': False}) \n",
    "print(user)\n",
    "\n",
    "#5 Ban the user by setting the previous key to True\n",
    "user['is_banned'] = True\n",
    "print(user)\n",
    "\n",
    "#6 create a new user2 my copying the previous user and update the age value and username value. \n",
    "user2 = user.copy()\n",
    "user2.update({'age': 100, 'username': 'Timbo'})\n",
    "print(user2)\n",
    "\n",
    "\n",
    "\n",
    "\n",
    "\n",
    "\n",
    "\n",
    "\n",
    "\n"
   ]
  },
  {
   "cell_type": "code",
   "execution_count": null,
   "id": "47f3611f",
   "metadata": {},
   "outputs": [],
   "source": []
  },
  {
   "cell_type": "code",
   "execution_count": null,
   "id": "421f3ade",
   "metadata": {},
   "outputs": [],
   "source": []
  },
  {
   "cell_type": "code",
   "execution_count": null,
   "id": "b6b5b4de",
   "metadata": {},
   "outputs": [],
   "source": []
  }
 ],
 "metadata": {
  "kernelspec": {
   "display_name": "Python 3 (ipykernel)",
   "language": "python",
   "name": "python3"
  },
  "language_info": {
   "codemirror_mode": {
    "name": "ipython",
    "version": 3
   },
   "file_extension": ".py",
   "mimetype": "text/x-python",
   "name": "python",
   "nbconvert_exporter": "python",
   "pygments_lexer": "ipython3",
   "version": "3.9.12"
  }
 },
 "nbformat": 4,
 "nbformat_minor": 5
}
