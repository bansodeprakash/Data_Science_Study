{
 "cells": [
  {
   "cell_type": "code",
   "execution_count": 1,
   "id": "640b9c5b",
   "metadata": {},
   "outputs": [],
   "source": [
    "import pandas as pd"
   ]
  },
  {
   "cell_type": "code",
   "execution_count": null,
   "id": "2ec39ded",
   "metadata": {},
   "outputs": [],
   "source": [
    "df=pd.read_csv(r'D:\\\\PROJECT\\\\Netflix\\\\Netflix_Dataset.csv')"
   ]
  },
  {
   "cell_type": "code",
   "execution_count": null,
   "id": "d98ec62d",
   "metadata": {},
   "outputs": [],
   "source": []
  },
  {
   "cell_type": "code",
   "execution_count": null,
   "id": "2dc19442",
   "metadata": {},
   "outputs": [],
   "source": [
    "df.head()"
   ]
  },
  {
   "cell_type": "code",
   "execution_count": null,
   "id": "dbb1af6b",
   "metadata": {},
   "outputs": [],
   "source": [
    "df.shape"
   ]
  },
  {
   "cell_type": "code",
   "execution_count": null,
   "id": "5e0969a0",
   "metadata": {},
   "outputs": [],
   "source": [
    "df.size"
   ]
  },
  {
   "cell_type": "code",
   "execution_count": null,
   "id": "24d9364f",
   "metadata": {},
   "outputs": [],
   "source": [
    "df.columns"
   ]
  },
  {
   "cell_type": "code",
   "execution_count": null,
   "id": "6703cf09",
   "metadata": {},
   "outputs": [],
   "source": [
    "df.dtypes"
   ]
  },
  {
   "cell_type": "code",
   "execution_count": null,
   "id": "8640d897",
   "metadata": {},
   "outputs": [],
   "source": [
    "df.info()"
   ]
  },
  {
   "cell_type": "code",
   "execution_count": null,
   "id": "3b24a253",
   "metadata": {},
   "outputs": [],
   "source": [
    "df[df.duplicated()]"
   ]
  },
  {
   "cell_type": "code",
   "execution_count": null,
   "id": "01614ef0",
   "metadata": {},
   "outputs": [],
   "source": [
    "df.drop_duplicates(inplace=True)"
   ]
  },
  {
   "cell_type": "code",
   "execution_count": null,
   "id": "31e8d46a",
   "metadata": {},
   "outputs": [],
   "source": [
    "df[df.duplicated()]"
   ]
  },
  {
   "cell_type": "markdown",
   "id": "898d1d70",
   "metadata": {},
   "source": [
    "# 2) Is there any Null Value present in any column ? Show with Heat-map."
   ]
  },
  {
   "cell_type": "code",
   "execution_count": null,
   "id": "0ad8bd58",
   "metadata": {},
   "outputs": [],
   "source": [
    "df.isnull().sum()"
   ]
  },
  {
   "cell_type": "code",
   "execution_count": null,
   "id": "865c3e51",
   "metadata": {},
   "outputs": [],
   "source": [
    "import seaborn as sns"
   ]
  },
  {
   "cell_type": "code",
   "execution_count": null,
   "id": "b10085ef",
   "metadata": {},
   "outputs": [],
   "source": [
    "sns.heatmap(df.isnull())"
   ]
  },
  {
   "cell_type": "markdown",
   "id": "3751a25f",
   "metadata": {},
   "source": [
    "# Q. 1) For 'House of Cards', what is the Show Id and Who is the Director of this show ?"
   ]
  },
  {
   "cell_type": "code",
   "execution_count": null,
   "id": "196526ab",
   "metadata": {},
   "outputs": [],
   "source": [
    "df.head()"
   ]
  },
  {
   "cell_type": "code",
   "execution_count": null,
   "id": "763b5758",
   "metadata": {},
   "outputs": [],
   "source": [
    "df[df.Title=='House of Cards']"
   ]
  },
  {
   "cell_type": "code",
   "execution_count": null,
   "id": "1c018405",
   "metadata": {},
   "outputs": [],
   "source": [
    "df[df['Title'].str.contains('House of Cards')]"
   ]
  },
  {
   "cell_type": "markdown",
   "id": "25713ee3",
   "metadata": {},
   "source": [
    "# Q. 2) In which year the highest number of the TV Shows & Movies were released ? Show with Bar Graph."
   ]
  },
  {
   "cell_type": "code",
   "execution_count": null,
   "id": "bfb54b50",
   "metadata": {},
   "outputs": [],
   "source": [
    "df.dtypes"
   ]
  },
  {
   "cell_type": "code",
   "execution_count": null,
   "id": "14d7a369",
   "metadata": {},
   "outputs": [],
   "source": [
    "df['Date_ADD']=pd.to_datetime(df['Release_Date'])"
   ]
  },
  {
   "cell_type": "code",
   "execution_count": null,
   "id": "b778a37e",
   "metadata": {},
   "outputs": [],
   "source": [
    "df.dtypes"
   ]
  },
  {
   "cell_type": "code",
   "execution_count": null,
   "id": "faf99eb3",
   "metadata": {},
   "outputs": [],
   "source": [
    "df['Date_ADD'].value_counts()"
   ]
  },
  {
   "cell_type": "code",
   "execution_count": null,
   "id": "994de37b",
   "metadata": {},
   "outputs": [],
   "source": [
    "df['Date_ADD'].dt.year.value_counts()"
   ]
  },
  {
   "cell_type": "code",
   "execution_count": null,
   "id": "7ad0f189",
   "metadata": {},
   "outputs": [],
   "source": [
    "df['Date_ADD'].dt.year.value_counts().plot(kind='bar')"
   ]
  },
  {
   "cell_type": "markdown",
   "id": "103468cb",
   "metadata": {},
   "source": [
    "# Q. 3) How many Movies & TV Shows are in the dataset ? Show with Bar Graph."
   ]
  },
  {
   "cell_type": "code",
   "execution_count": null,
   "id": "1d1df618",
   "metadata": {},
   "outputs": [],
   "source": [
    "df.head(2)"
   ]
  },
  {
   "cell_type": "code",
   "execution_count": null,
   "id": "6bf9d8c7",
   "metadata": {},
   "outputs": [],
   "source": [
    "df.groupby('Category').Category.count()"
   ]
  },
  {
   "cell_type": "code",
   "execution_count": null,
   "id": "d7619a21",
   "metadata": {},
   "outputs": [],
   "source": [
    "df.groupby('Category').Category.count().plot(kind='bar')"
   ]
  },
  {
   "cell_type": "code",
   "execution_count": null,
   "id": "7f99b269",
   "metadata": {},
   "outputs": [],
   "source": [
    "sns.countplot(df['Category'])"
   ]
  },
  {
   "cell_type": "markdown",
   "id": "ed33adca",
   "metadata": {},
   "source": [
    "# Q. 4) Show all the Movies that were released in year 2000."
   ]
  },
  {
   "cell_type": "code",
   "execution_count": null,
   "id": "808cfe33",
   "metadata": {},
   "outputs": [],
   "source": [
    "df.head(2)"
   ]
  },
  {
   "cell_type": "code",
   "execution_count": null,
   "id": "fa78f0da",
   "metadata": {},
   "outputs": [],
   "source": [
    "df['Year']=df['Date_ADD'].dt.year"
   ]
  },
  {
   "cell_type": "code",
   "execution_count": null,
   "id": "d0c7b100",
   "metadata": {},
   "outputs": [],
   "source": [
    "df"
   ]
  },
  {
   "cell_type": "code",
   "execution_count": null,
   "id": "d47667cb",
   "metadata": {
    "scrolled": true
   },
   "outputs": [],
   "source": [
    "df[(df.Category=='Movie')&(df.Year==2020)]"
   ]
  },
  {
   "cell_type": "markdown",
   "id": "2a591b5c",
   "metadata": {},
   "source": [
    "# Q. 5) Show only the Titles of all TV Shows that were released in India only."
   ]
  },
  {
   "cell_type": "code",
   "execution_count": null,
   "id": "254714b6",
   "metadata": {},
   "outputs": [],
   "source": [
    "df.head(2)"
   ]
  },
  {
   "cell_type": "code",
   "execution_count": null,
   "id": "3d18374b",
   "metadata": {},
   "outputs": [],
   "source": [
    "df[(df.Category=='TV Show') & (df.Country=='India')]['Title']"
   ]
  },
  {
   "cell_type": "markdown",
   "id": "d16f3bb1",
   "metadata": {},
   "source": [
    "# Q. 5) Show only the Titles of all TV Shows that were released in India only."
   ]
  },
  {
   "cell_type": "code",
   "execution_count": null,
   "id": "d00ee852",
   "metadata": {},
   "outputs": [],
   "source": [
    "df.Director.value_counts().head(10)"
   ]
  },
  {
   "cell_type": "markdown",
   "id": "89e80121",
   "metadata": {},
   "source": [
    "# Q. 6) Show Top 10 Directors, who gave the highest number of TV Shows & Movies to Netflix ?"
   ]
  },
  {
   "cell_type": "code",
   "execution_count": null,
   "id": "97ce88ac",
   "metadata": {},
   "outputs": [],
   "source": [
    "df.Director.value_counts().head(10)"
   ]
  },
  {
   "cell_type": "markdown",
   "id": "cb87ed4a",
   "metadata": {},
   "source": [
    "# Q. 7) Show all the Records, where \"Category is Movie and Type is Comedies\" or \"Country is United Kingdom\"."
   ]
  },
  {
   "cell_type": "code",
   "execution_count": null,
   "id": "8e25c8ea",
   "metadata": {},
   "outputs": [],
   "source": [
    "df.head(2)"
   ]
  },
  {
   "cell_type": "code",
   "execution_count": null,
   "id": "b629496d",
   "metadata": {},
   "outputs": [],
   "source": [
    "df[(df.Category=='Movie') & (df['Type'].str.contains('Comedies'))]"
   ]
  },
  {
   "cell_type": "code",
   "execution_count": null,
   "id": "e2ea95ce",
   "metadata": {},
   "outputs": [],
   "source": [
    "df[(df.Category=='Movie') & (df['Type'].str.contains('Comedies')|df['Country'].str.contains('United Kingdom'))]"
   ]
  },
  {
   "cell_type": "markdown",
   "id": "8f710be4",
   "metadata": {},
   "source": [
    "# Q. 8) In how many movies/shows, Tom Cruise was cast ?"
   ]
  },
  {
   "cell_type": "code",
   "execution_count": null,
   "id": "4f43ada6",
   "metadata": {},
   "outputs": [],
   "source": [
    "df.Cast"
   ]
  },
  {
   "cell_type": "code",
   "execution_count": null,
   "id": "c545ea5f",
   "metadata": {},
   "outputs": [],
   "source": [
    "df[df['Cast'].str.contains('Tom Cruise')]"
   ]
  },
  {
   "cell_type": "code",
   "execution_count": null,
   "id": "b337d559",
   "metadata": {},
   "outputs": [],
   "source": [
    "df1=df.dropna()"
   ]
  },
  {
   "cell_type": "code",
   "execution_count": null,
   "id": "4e2d8716",
   "metadata": {},
   "outputs": [],
   "source": [
    "df1[df1['Cast'].str.contains('Tom Cruise')]"
   ]
  },
  {
   "cell_type": "markdown",
   "id": "bbadec32",
   "metadata": {},
   "source": [
    "# Q. 9) What are the different Ratings defined by Netflix ?"
   ]
  },
  {
   "cell_type": "code",
   "execution_count": null,
   "id": "5efd344d",
   "metadata": {},
   "outputs": [],
   "source": [
    "df.Rating.nunique()"
   ]
  },
  {
   "cell_type": "code",
   "execution_count": null,
   "id": "013d2dc3",
   "metadata": {},
   "outputs": [],
   "source": [
    "df.Rating.unique()"
   ]
  },
  {
   "cell_type": "markdown",
   "id": "c30907a7",
   "metadata": {},
   "source": [
    "# Q. 9.1) How many Movies got the 'TV-14' rating, in Canada ?"
   ]
  },
  {
   "cell_type": "code",
   "execution_count": null,
   "id": "a89846f1",
   "metadata": {},
   "outputs": [],
   "source": [
    "df[(df.Category=='Movie') & (df.Rating=='TV-14') & (df.Country=='Canada')]"
   ]
  },
  {
   "cell_type": "markdown",
   "id": "34b809cf",
   "metadata": {},
   "source": [
    "# Q. 9.2) How many TV Shows got the 'R' rating, after year 2018 ?"
   ]
  },
  {
   "cell_type": "code",
   "execution_count": null,
   "id": "8d73952a",
   "metadata": {},
   "outputs": [],
   "source": [
    "df.head(10)"
   ]
  },
  {
   "cell_type": "code",
   "execution_count": null,
   "id": "10d851d8",
   "metadata": {},
   "outputs": [],
   "source": [
    "df[(df.Category=='TV Show') & (df.Rating=='R') & (df.Year>2017)]"
   ]
  },
  {
   "cell_type": "markdown",
   "id": "99fd53d4",
   "metadata": {},
   "source": [
    "# Q. 10) What is the maximum duration of a Movie/Show on Netflix ?"
   ]
  },
  {
   "cell_type": "code",
   "execution_count": null,
   "id": "6ddc099e",
   "metadata": {},
   "outputs": [],
   "source": [
    "df.Duration.unique()."
   ]
  },
  {
   "cell_type": "code",
   "execution_count": null,
   "id": "5d5e659d",
   "metadata": {},
   "outputs": [],
   "source": [
    "df.head()"
   ]
  },
  {
   "cell_type": "code",
   "execution_count": null,
   "id": "66ed2a10",
   "metadata": {},
   "outputs": [],
   "source": [
    "df[['Min','Unit']]=df['Duration'].str.split(' ',expand=True)"
   ]
  },
  {
   "cell_type": "code",
   "execution_count": null,
   "id": "9bb443f9",
   "metadata": {},
   "outputs": [],
   "source": [
    "df"
   ]
  },
  {
   "cell_type": "code",
   "execution_count": null,
   "id": "b640092c",
   "metadata": {},
   "outputs": [],
   "source": [
    "df.Min.max()"
   ]
  },
  {
   "cell_type": "code",
   "execution_count": null,
   "id": "25c06089",
   "metadata": {},
   "outputs": [],
   "source": [
    "df.Min.min()"
   ]
  },
  {
   "cell_type": "markdown",
   "id": "89eb6206",
   "metadata": {},
   "source": [
    "# Q. 11) Which individual country has the Highest No. of TV Shows ?"
   ]
  },
  {
   "cell_type": "code",
   "execution_count": null,
   "id": "1c35979a",
   "metadata": {},
   "outputs": [],
   "source": [
    "df.head()"
   ]
  },
  {
   "cell_type": "code",
   "execution_count": null,
   "id": "c7e999b0",
   "metadata": {},
   "outputs": [],
   "source": [
    "df_TV_Show=df[df.Category=='TV Show']"
   ]
  },
  {
   "cell_type": "code",
   "execution_count": null,
   "id": "65c7cf1b",
   "metadata": {},
   "outputs": [],
   "source": [
    "df_TV_Show"
   ]
  },
  {
   "cell_type": "code",
   "execution_count": null,
   "id": "03e645a2",
   "metadata": {},
   "outputs": [],
   "source": [
    "df_TV_Show['Country'].value_counts().head(50)"
   ]
  },
  {
   "cell_type": "markdown",
   "id": "fa158bc1",
   "metadata": {},
   "source": [
    "# Q. 12) How can we sort the dataset by Year ?"
   ]
  },
  {
   "cell_type": "code",
   "execution_count": null,
   "id": "939b874d",
   "metadata": {},
   "outputs": [],
   "source": [
    "df.sort_values(by='Year',ascending=False)"
   ]
  },
  {
   "cell_type": "markdown",
   "id": "880d20a0",
   "metadata": {},
   "source": [
    "# Q. 13) Find all the instances where: Category is 'Movie' and Type is 'Dramas' or Category is 'TV Show' & Type is 'Kids' TV'."
   ]
  },
  {
   "cell_type": "code",
   "execution_count": null,
   "id": "38ec3197",
   "metadata": {},
   "outputs": [],
   "source": [
    "df.head(2)"
   ]
  },
  {
   "cell_type": "code",
   "execution_count": null,
   "id": "581e91a6",
   "metadata": {},
   "outputs": [],
   "source": [
    "df[(df.Category=='Movie') & (df['Type'].str.contains('Dramas'))]"
   ]
  },
  {
   "cell_type": "code",
   "execution_count": null,
   "id": "9abf67e5",
   "metadata": {},
   "outputs": [],
   "source": [
    "df[(df.Category=='TV Show') & (df['Type'].str.contains(\"Kids' TV\"))]"
   ]
  },
  {
   "cell_type": "code",
   "execution_count": null,
   "id": "9acc1081",
   "metadata": {},
   "outputs": [],
   "source": [
    "df[(df.Category=='Movie') & (df['Type'].str.contains('Dramas'))|\n",
    "   (df.Category=='TV Show') & (df['Type'].str.contains(\"Kids' TV\"))]"
   ]
  },
  {
   "cell_type": "code",
   "execution_count": null,
   "id": "05b479be",
   "metadata": {},
   "outputs": [],
   "source": []
  }
 ],
 "metadata": {
  "kernelspec": {
   "display_name": "Python 3 (ipykernel)",
   "language": "python",
   "name": "python3"
  },
  "language_info": {
   "codemirror_mode": {
    "name": "ipython",
    "version": 3
   },
   "file_extension": ".py",
   "mimetype": "text/x-python",
   "name": "python",
   "nbconvert_exporter": "python",
   "pygments_lexer": "ipython3",
   "version": "3.9.12"
  }
 },
 "nbformat": 4,
 "nbformat_minor": 5
}
